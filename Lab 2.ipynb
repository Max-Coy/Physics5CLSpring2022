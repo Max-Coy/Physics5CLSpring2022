{
 "cells": [
  {
   "cell_type": "code",
   "execution_count": 1,
   "id": "34b43bf4",
   "metadata": {},
   "outputs": [],
   "source": [
    "import numpy as np\n",
    "import scipy.optimize as fitter\n",
    "import matplotlib.pyplot as plt"
   ]
  },
  {
   "cell_type": "markdown",
   "id": "0fa736ea",
   "metadata": {},
   "source": [
    "# Experiment 1"
   ]
  },
  {
   "cell_type": "markdown",
   "id": "a7367805",
   "metadata": {},
   "source": [
    "### 1.2"
   ]
  },
  {
   "cell_type": "code",
   "execution_count": 2,
   "id": "f8a8dac1",
   "metadata": {},
   "outputs": [],
   "source": [
    "minimum = np.array([3, 33, 745]) #lux, same as background readings\n",
    "maximum = np.array([764, 8399, 169000]) #lux\n",
    "\n",
    "comparedReadings = np.array([1785, 2120])#6000 -> 150,000\n",
    "\n",
    "\n",
    "lightSrc = 11 #centimeters, very rough\n",
    "offset = 5 #cm, offset of detecter from close side of base\n",
    "dist = np.array([18.0, 31.0, 29.0, 27.0, 24.0])\n",
    "illum = np.array([2170, 460, 650, 945, 1772])"
   ]
  },
  {
   "cell_type": "markdown",
   "id": "8787bca9",
   "metadata": {},
   "source": [
    "### 1.3"
   ]
  },
  {
   "cell_type": "code",
   "execution_count": 3,
   "id": "85f07da2",
   "metadata": {},
   "outputs": [],
   "source": [
    "detector = 36.1 #cm \n",
    "initialI = 84 #+/- 1 (originally 100 but we moved to the lower range)\n",
    "\n",
    "illumination = [19, 22, 31, 44, 58, 68, 72, 69, 59, 46, 33, 22, 19, 23, 32, \n",
    "                45, 59, 69, 72, 69, 58, 46, 32, 22, 19, 22, 32, 44, 58, 68, 72]\n",
    "angle = (np.arange(0,451,15) + 90) % 180"
   ]
  },
  {
   "cell_type": "code",
   "execution_count": 4,
   "id": "eccbd3a6",
   "metadata": {},
   "outputs": [],
   "source": [
    "def f(x, a0, a1, a2):\n",
    "    return a0*(np.cos(np.deg2rad(x) - a1))**2 + a2\n",
    "\n",
    "par, cov = fitter.curve_fit(f,angle,illumination)\n",
    "b0, b1, b2 = par"
   ]
  },
  {
   "cell_type": "code",
   "execution_count": 5,
   "id": "e304d72a",
   "metadata": {},
   "outputs": [
    {
     "data": {
      "image/png": "[encoded data removed]",
      "text/plain": [
       "<Figure size 432x288 with 1 Axes>"
      ]
     },
     "metadata": {
      "needs_background": "light"
     },
     "output_type": "display_data"
    }
   ],
   "source": [
    "figure, ax = plt.subplots()\n",
    "ax.errorbar(angle,illumination,xerr=1,yerr=1,fmt='o',label='Experimental Data')\n",
    "x = np.linspace(min(angle),max(angle),100)\n",
    "ax.plot(x,f(x,b0,b1,b2), c='r',label='Theoretical Fit')\n",
    "ax.set_xlabel('Rotation (degrees)')\n",
    "ax.set_ylabel('Light Intensity (Lux)')\n",
    "ax.set_title(\"Malus's Law\")\n",
    "ax.grid()\n",
    "ax.legend();\n",
    "plt.savefig('Lab 2 Experiment 1.4.png', facecolor='w', format='png', bbox_inches='tight')"
   ]
  },
  {
   "cell_type": "code",
   "execution_count": 6,
   "id": "213ffa8a",
   "metadata": {},
   "outputs": [
    {
     "data": {
      "text/plain": [
       "0.184767852659318"
      ]
     },
     "execution_count": 6,
     "metadata": {},
     "output_type": "execute_result"
    }
   ],
   "source": [
    "#Calculating reduced chi squared\n",
    "res = np.array(illumination) - f(np.array(angle), b0, b1, b2)\n",
    "chi_s = np.sum(res**2 / np.sqrt(2))\n",
    "rChi_s = chi_s / (len(illumination) - 3)\n",
    "rChi_s"
   ]
  },
  {
   "cell_type": "markdown",
   "id": "de937af9",
   "metadata": {},
   "source": [
    "# Experiment 2"
   ]
  },
  {
   "cell_type": "markdown",
   "id": "39c17e5a",
   "metadata": {},
   "source": [
    "### 2.1"
   ]
  },
  {
   "cell_type": "code",
   "execution_count": 7,
   "id": "9e35b4ae",
   "metadata": {},
   "outputs": [],
   "source": [
    "initialI = 5939"
   ]
  },
  {
   "cell_type": "markdown",
   "id": "c7e4814f",
   "metadata": {},
   "source": [
    "### 2.2"
   ]
  },
  {
   "cell_type": "code",
   "execution_count": 8,
   "id": "18a5f0d0",
   "metadata": {},
   "outputs": [],
   "source": [
    "initialI = 7200\n",
    "straightTwo = 7238 #45degree offset for fast axis from linear polarizer"
   ]
  },
  {
   "cell_type": "markdown",
   "id": "520fa8be",
   "metadata": {},
   "source": [
    "# Experiment 3"
   ]
  },
  {
   "cell_type": "code",
   "execution_count": 9,
   "id": "be2daab9",
   "metadata": {},
   "outputs": [],
   "source": [
    "origin = np.array([232, 231, 232]) #angle of the glass that is perpendicular to laser\n",
    "originLux = np.array([234, 242,237])#lux transmitted through glass that is perpendicular\n",
    "gThickness = np.array([1.90,1.90]) #thickness of the glass that the laser is traveling through (cm)\n",
    "gAngle = np.array([[221,221,219],[211,210,209],[199,199,195],[188,188,188],[178,178,177], [168,170,169]]) #angle of the glass\n",
    "tLux = np.array([[243,244,230],[244,227,230],[234,230,236],[231,234,233],[165,160,165],[154,141,145]]) #transmitted Lux\n",
    "dotDist = np.array([0.5,1,2,3,4.5,5.5]) #how far the laser travels horizontally across the grid paper "
   ]
  },
  {
   "cell_type": "code",
   "execution_count": 10,
   "id": "2ab77ed4",
   "metadata": {},
   "outputs": [],
   "source": [
    "def theta2F(y,t): #t = thickness of block, y = horizontal displacement\n",
    "    t1 = np.sqrt(4*y*y + 4*t*t)\n",
    "    return np.arcsin(2*y/t1) #returns in radians\n",
    "\n",
    "\n",
    "def reflectance(theta1, theta2, n1, n2):\n",
    "    t1 = n2*np.cos(theta1) - n1*np.cos(theta2)\n",
    "    t2 = n2*np.cos(theta1) + n1*np.cos(theta2)\n",
    "    return t1*t1 / (t2*t2)\n",
    "\n",
    "\n",
    "#very bad code but I'm having trouble making curve_fit behave so...\n",
    "def reflectanceFit(theta1, n2):\n",
    "    global angle2, n1\n",
    "    t1 = n2*np.cos(theta1) - n1*np.cos(angle2)\n",
    "    t2 = n2*np.cos(theta1) + n1*np.cos(angle2)\n",
    "    return t1*t1 / (t2*t2)\n",
    "\n",
    "def snell(theta1, theta2, n1): #returns index of refraction using snell's law\n",
    "    return n1*np.sin(theta1) / np.sin(theta2)\n",
    "\n",
    "def snellTheta(theta1, n1, n2):\n",
    "    return np.arcsin(n1/n2*np.sin(theta1))"
   ]
  },
  {
   "cell_type": "code",
   "execution_count": 11,
   "id": "302ff295",
   "metadata": {},
   "outputs": [],
   "source": [
    "rLux = originLux.mean() - tLux.mean(axis=1)#converting transmitted lux to reflected via R = 1 - T\n",
    "angle1 = np.deg2rad(origin.mean() - gAngle.mean(axis=1))\n",
    "angle2 = theta2F(dotDist, np.ones(len(dotDist))*gThickness.mean())\n",
    "n1 = 1\n",
    "par, cov = fitter.curve_fit(reflectanceFit, angle1, rLux/originLux.mean(), [1.4])\n",
    "n2Fit = par[0]"
   ]
  },
  {
   "cell_type": "code",
   "execution_count": 12,
   "id": "247b6aae",
   "metadata": {},
   "outputs": [
    {
     "data": {
      "image/png": "[encoded data removed]",
      "text/plain": [
       "<Figure size 720x432 with 1 Axes>"
      ]
     },
     "metadata": {
      "needs_background": "light"
     },
     "output_type": "display_data"
    }
   ],
   "source": [
    "figure, ax = plt.subplots(figsize=(10,6))\n",
    "\n",
    "x = np.linspace(10,65,100)\n",
    "\n",
    "ax.scatter(origin.mean() - gAngle.mean(axis=1),rLux/originLux.mean(),label='Experimental Data')\n",
    "\n",
    "\n",
    "\n",
    "n2 = 1.53\n",
    "theta2 = np.arcsin(n1/n2*np.sin(np.deg2rad(x)))\n",
    "y = reflectance(np.deg2rad(x), theta2, n1, n2)\n",
    "ax.plot(x,y, c='orange', label='Theoretical Prediction')\n",
    "\n",
    "\n",
    "ax.plot(np.rad2deg(angle1),reflectanceFit(angle1, n2Fit),c='red', label='Fitted Prediction')\n",
    "\n",
    "out = reflectance(np.deg2rad(x), snellTheta(np.deg2rad(x),n1,n2Fit), n1, n2Fit);\n",
    "x = x[np.isnan(out) != 1]\n",
    "out = out[np.isnan(out) != 1]\n",
    "ax.plot(x,out,c='black',linestyle='dashed',label='Theoretical Prediction from Fitted Value')\n",
    "\n",
    "ax.set_title(\"Brewster's Angle\")\n",
    "ax.set_xlabel('Incident Angle on Glass (degrees)')\n",
    "ax.set_ylabel('Reflectance')\n",
    "ax.legend()\n",
    "ax.grid()\n",
    "plt.savefig('Lab 2 Experiment 3.png', facecolor='w', format='png', bbox_inches='tight')"
   ]
  },
  {
   "cell_type": "code",
   "execution_count": 13,
   "id": "0ffc2767",
   "metadata": {},
   "outputs": [
    {
     "data": {
      "text/plain": [
       "(1.7158472894569308, 59.76626301162385, 56.831579178740526)"
      ]
     },
     "execution_count": 13,
     "metadata": {},
     "output_type": "execute_result"
    }
   ],
   "source": [
    "n2Fit, np.rad2deg(np.arctan(n2Fit/n1)), np.rad2deg(np.arctan(n2/n1))"
   ]
  }
 ],
 "metadata": {
  "kernelspec": {
   "display_name": "Python 3 (ipykernel)",
   "language": "python",
   "name": "python3"
  },
  "language_info": {
   "codemirror_mode": {
    "name": "ipython",
    "version": 3
   },
   "file_extension": ".py",
   "mimetype": "text/x-python",
   "name": "python",
   "nbconvert_exporter": "python",
   "pygments_lexer": "ipython3",
   "version": "3.9.1"
  }
 },
 "nbformat": 4,
 "nbformat_minor": 5
}
