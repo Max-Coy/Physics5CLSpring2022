{
 "cells": [
  {
   "cell_type": "code",
   "execution_count": 1,
   "id": "26335f74",
   "metadata": {},
   "outputs": [],
   "source": [
    "import numpy as np\n",
    "import matplotlib.pyplot as plt\n",
    "import scipy.optimize as fitter"
   ]
  },
  {
   "cell_type": "markdown",
   "id": "24b4bde5",
   "metadata": {},
   "source": [
    "# Experiment 1"
   ]
  },
  {
   "cell_type": "code",
   "execution_count": 8,
   "id": "6d43301a",
   "metadata": {},
   "outputs": [],
   "source": [
    "#Code nabbed from: http://www.noah.org/wiki/Wavelength_to_RGB_in_Python\n",
    "def wavelength_to_rgb(wavelength, gamma=0.8):\n",
    "\n",
    "    '''This converts a given wavelength of light to an \n",
    "    approximate RGB color value. The wavelength must be given\n",
    "    in nanometers in the range from 380 nm through 750 nm\n",
    "    (789 THz through 400 THz).\n",
    "\n",
    "    Based on code by Dan Bruton\n",
    "    http://www.physics.sfasu.edu/astro/color/spectra.html\n",
    "    '''\n",
    "\n",
    "    wavelength = float(wavelength)\n",
    "    if wavelength >= 380 and wavelength <= 440:\n",
    "        attenuation = 0.3 + 0.7 * (wavelength - 380) / (440 - 380)\n",
    "        R = ((-(wavelength - 440) / (440 - 380)) * attenuation) ** gamma\n",
    "        G = 0.0\n",
    "        B = (1.0 * attenuation) ** gamma\n",
    "    elif wavelength >= 440 and wavelength <= 490:\n",
    "        R = 0.0\n",
    "        G = ((wavelength - 440) / (490 - 440)) ** gamma\n",
    "        B = 1.0\n",
    "    elif wavelength >= 490 and wavelength <= 510:\n",
    "        R = 0.0\n",
    "        G = 1.0\n",
    "        B = (-(wavelength - 510) / (510 - 490)) ** gamma\n",
    "    elif wavelength >= 510 and wavelength <= 580:\n",
    "        R = ((wavelength - 510) / (580 - 510)) ** gamma\n",
    "        G = 1.0\n",
    "        B = 0.0\n",
    "    elif wavelength >= 580 and wavelength <= 645:\n",
    "        R = 1.0\n",
    "        G = (-(wavelength - 645) / (645 - 580)) ** gamma\n",
    "        B = 0.0\n",
    "    elif wavelength >= 645 and wavelength <= 750:\n",
    "        attenuation = 0.3 + 0.7 * (750 - wavelength) / (750 - 645)\n",
    "        R = (1.0 * attenuation) ** gamma\n",
    "        G = 0.0\n",
    "        B = 0.0\n",
    "    else:\n",
    "        R = 0.0\n",
    "        G = 0.0\n",
    "        B = 0.0\n",
    "    R *= 255\n",
    "    G *= 255\n",
    "    B *= 255\n",
    "    return (int(R), int(G), int(B))"
   ]
  },
  {
   "cell_type": "code",
   "execution_count": 2,
   "id": "cd058a2d",
   "metadata": {},
   "outputs": [],
   "source": [
    "offset = 5 - 1.0 - 1.4"
   ]
  },
  {
   "cell_type": "code",
   "execution_count": 9,
   "id": "5adf00e1",
   "metadata": {},
   "outputs": [],
   "source": [
    "#All cm +/- 0.05\n",
    "screenDist = 0.0\n",
    "gratingDist = 25.5\n",
    "firstMin = 9.5\n",
    "secondMin = 22.1\n",
    "rLambda = 634.6e-9"
   ]
  },
  {
   "cell_type": "code",
   "execution_count": 4,
   "id": "fc919b3f",
   "metadata": {},
   "outputs": [
    {
     "name": "stdout",
     "output_type": "stream",
     "text": [
      "Approximate Slits per centimeter: 5501.2452\n"
     ]
    }
   ],
   "source": [
    "#Calculating Slits per centimeter\n",
    "spc = np.sin(np.arctan(firstMin/(gratingDist))) / rLambda / 100\n",
    "print('Approximate Slits per centimeter: {:.4f}'.format(spc))"
   ]
  },
  {
   "cell_type": "code",
   "execution_count": 6,
   "id": "d486a2b6",
   "metadata": {},
   "outputs": [
    {
     "name": "stdout",
     "output_type": "stream",
     "text": [
      "Approximate angle of 1nst order maxima: 20.4328 degrees\n",
      "Approximate angle of 2nd order maxima: 40.9144 degrees\n"
     ]
    }
   ],
   "source": [
    "theta1 = np.rad2deg(np.arctan(firstMin/(gratingDist)))\n",
    "print('Approximate angle of 1nst order maxima: {:.4f} degrees'.format(theta1))\n",
    "theta2 = np.rad2deg(np.arctan(secondMin/(gratingDist)))\n",
    "print('Approximate angle of 2nd order maxima: {:.4f} degrees'.format(theta2))"
   ]
  },
  {
   "cell_type": "code",
   "execution_count": 11,
   "id": "d31cbd12",
   "metadata": {},
   "outputs": [
    {
     "data": {
      "text/plain": [
       "array([ 634.6       , 1190.51325544])"
      ]
     },
     "execution_count": 11,
     "metadata": {},
     "output_type": "execute_result"
    }
   ],
   "source": [
    "WL"
   ]
  },
  {
   "cell_type": "markdown",
   "id": "5a981e34",
   "metadata": {},
   "source": [
    "# Experiment 2"
   ]
  },
  {
   "cell_type": "code",
   "execution_count": 16,
   "id": "81d916f9",
   "metadata": {},
   "outputs": [
    {
     "name": "stdout",
     "output_type": "stream",
     "text": [
      "RED LED\n",
      "Angle between grating and inner edge: 15.1331 degrees\n",
      "Angle between grating and outer edge: 20.1204 degrees\n",
      "Minimum Wavelength: 474.5506 nm\n",
      "Maximum Wavelength: 638.3420 nm\n"
     ]
    },
    {
     "data": {
      "image/png": "[encoded data removed]",
      "text/plain": [
       "<Figure size 432x288 with 1 Axes>"
      ]
     },
     "metadata": {
      "needs_background": "light"
     },
     "output_type": "display_data"
    }
   ],
   "source": [
    "#Red LED\n",
    "screenLoc = 4.9\n",
    "gratingLoc = 36.7\n",
    "innerSep = np.array([8.6, 8.6])\n",
    "outerSep = np.array([11.7, 11.6])\n",
    "slitDist = 0.1e7 #converted to nanometers\n",
    "angle1 = np.rad2deg(np.arctan(innerSep.mean() / (gratingLoc - screenLoc)))\n",
    "angle2 = np.rad2deg(np.arctan(outerSep.mean() / (gratingLoc - screenLoc)))\n",
    "waveMin = np.sin(np.deg2rad(angle1)) / spc *1e7\n",
    "waveMax = np.deg2rad(angle2) / spc *1e7\n",
    "print('RED LED')\n",
    "print('Angle between grating and inner edge: {:.4f} degrees'.format(angle1))\n",
    "print('Angle between grating and outer edge: {:.4f} degrees'.format(angle2))\n",
    "print('Minimum Wavelength: {:.4f} nm'.format(waveMin))\n",
    "print('Maximum Wavelength: {:.4f} nm'.format(waveMax))\n",
    "\n",
    "\n",
    "WL = np.linspace(waveMin,waveMax,300)\n",
    "colors = []\n",
    "for i in WL:\n",
    "    colors.append(wavelength_to_rgb(i))\n",
    "colors = np.array(colors) / 255\n",
    "fig, ax = plt.subplots() \n",
    "ax.vlines(x=WL, ymin = 0, ymax=1, colors=colors)\n",
    "ax.set_xlim(380,750)\n",
    "ax.set_ylim(0,1)\n",
    "ax.set_xlabel('Wavelength (nm)')\n",
    "ax.set_title('Red LED Spectrum')\n",
    "ax.set_yticks([]);\n",
    "plt.savefig('Lab 4 Experiment 2 RED.png', facecolor='w', format='png', bbox_inches='tight')"
   ]
  },
  {
   "cell_type": "code",
   "execution_count": null,
   "id": "790a0b34",
   "metadata": {},
   "outputs": [],
   "source": []
  },
  {
   "cell_type": "code",
   "execution_count": 17,
   "id": "6c5e215d",
   "metadata": {},
   "outputs": [
    {
     "name": "stdout",
     "output_type": "stream",
     "text": [
      "BLUE LED\n",
      "Angle between grating and inner edge: 12.3283 degrees\n",
      "Angle between grating and outer edge: 15.9692 degrees\n",
      "Minimum Wavelength: 388.1187 nm\n",
      "Maximum Wavelength: 506.6397 nm\n"
     ]
    },
    {
     "data": {
      "image/png": "[encoded data removed]",
      "text/plain": [
       "<Figure size 432x288 with 1 Axes>"
      ]
     },
     "metadata": {
      "needs_background": "light"
     },
     "output_type": "display_data"
    }
   ],
   "source": [
    "#Blue LED\n",
    "innerSep = np.array([6.9, 7.0])\n",
    "outerSep = np.array([9.0, 9.2])\n",
    "\n",
    "angle1 = np.rad2deg(np.arctan(innerSep.mean() / (gratingLoc - screenLoc)))\n",
    "angle2 = np.rad2deg(np.arctan(outerSep.mean() / (gratingLoc - screenLoc)))\n",
    "waveMin = np.sin(np.deg2rad(angle1)) / spc *1e7\n",
    "waveMax = np.deg2rad(angle2) / spc *1e7\n",
    "print('BLUE LED')\n",
    "print('Angle between grating and inner edge: {:.4f} degrees'.format(angle1))\n",
    "print('Angle between grating and outer edge: {:.4f} degrees'.format(angle2))\n",
    "print('Minimum Wavelength: {:.4f} nm'.format(waveMin))\n",
    "print('Maximum Wavelength: {:.4f} nm'.format(waveMax))\n",
    "\n",
    "WL = np.linspace(waveMin,waveMax,300)\n",
    "colors = []\n",
    "for i in WL:\n",
    "    colors.append(wavelength_to_rgb(i))\n",
    "colors = np.array(colors) / 255\n",
    "fig, ax = plt.subplots() \n",
    "ax.vlines(x=WL, ymin = 0, ymax=1, colors=colors)\n",
    "ax.set_xlim(380,750)\n",
    "ax.set_ylim(0,1)\n",
    "ax.set_xlabel('Wavelength (nm)')\n",
    "ax.set_title('Blue LED Spectrum')\n",
    "ax.set_yticks([]);\n",
    "plt.savefig('Lab 4 Experiment 2 BLUE.png', facecolor='w', format='png', bbox_inches='tight')"
   ]
  },
  {
   "cell_type": "code",
   "execution_count": 18,
   "id": "5176940b",
   "metadata": {},
   "outputs": [
    {
     "name": "stdout",
     "output_type": "stream",
     "text": [
      "GREEN LED\n",
      "Angle between grating and inner edge: 14.1210 degrees\n",
      "Angle between grating and outer edge: 18.7587 degrees\n",
      "Minimum Wavelength: 443.4823 nm\n",
      "Maximum Wavelength: 595.1384 nm\n"
     ]
    },
    {
     "data": {
      "image/png": "[encoded data removed]",
      "text/plain": [
       "<Figure size 432x288 with 1 Axes>"
      ]
     },
     "metadata": {
      "needs_background": "light"
     },
     "output_type": "display_data"
    }
   ],
   "source": [
    "#Green LED\n",
    "innerSep = np.array([8.1, 7.9])\n",
    "outerSep = np.array([11.0, 10.6])\n",
    "\n",
    "angle1 = np.rad2deg(np.arctan(innerSep.mean() / (gratingLoc - screenLoc)))\n",
    "angle2 = np.rad2deg(np.arctan(outerSep.mean() / (gratingLoc - screenLoc)))\n",
    "waveMin = np.sin(np.deg2rad(angle1)) / spc *1e7\n",
    "waveMax = np.deg2rad(angle2) / spc *1e7\n",
    "print('GREEN LED')\n",
    "print('Angle between grating and inner edge: {:.4f} degrees'.format(angle1))\n",
    "print('Angle between grating and outer edge: {:.4f} degrees'.format(angle2))\n",
    "print('Minimum Wavelength: {:.4f} nm'.format(waveMin))\n",
    "print('Maximum Wavelength: {:.4f} nm'.format(waveMax))\n",
    "\n",
    "WL = np.linspace(waveMin,waveMax,300)\n",
    "colors = []\n",
    "for i in WL:\n",
    "    colors.append(wavelength_to_rgb(i))\n",
    "colors = np.array(colors) / 255\n",
    "fig, ax = plt.subplots() \n",
    "ax.vlines(x=WL, ymin = 0, ymax=1, colors=colors)\n",
    "ax.set_xlim(380,750)\n",
    "ax.set_ylim(0,1)\n",
    "ax.set_xlabel('Wavelength (nm)')\n",
    "ax.set_title('Green LED Spectrum')\n",
    "ax.set_yticks([]);\n",
    "plt.savefig('Lab 4 Experiment 2 GREEN.png', facecolor='w', format='png', bbox_inches='tight')"
   ]
  },
  {
   "cell_type": "markdown",
   "id": "bae28019",
   "metadata": {},
   "source": [
    "# Experiment 3"
   ]
  },
  {
   "cell_type": "code",
   "execution_count": 37,
   "id": "90871dac",
   "metadata": {},
   "outputs": [
    {
     "data": {
      "image/png": "[encoded data removed]",
      "text/plain": [
       "<Figure size 432x288 with 1 Axes>"
      ]
     },
     "metadata": {
      "needs_background": "light"
     },
     "output_type": "display_data"
    },
    {
     "name": "stdout",
     "output_type": "stream",
     "text": [
      "Slope: 7.2222\n",
      "Y Intercept: 4283.2353\n",
      "Fitted X Intercept: -593.0668208846101\n"
     ]
    }
   ],
   "source": [
    "#BLUE LED\n",
    "voltage = np.array([-800, -699, -500, -602, -401, -305, -199, -103, 2, 106,\n",
    "                   191, 299, 397, 501, 609, 709, 795]) #milivolts\n",
    "\n",
    "current = np.array([27, 120, 520, 271, 868, 1309, 1941, 2620, 3522, 4612,\n",
    "                   5359, 6406, 7315, 8222, 9142, 9941, 10620]) #nanoamps\n",
    "def f(x, a0, a1):\n",
    "    return x*a0 + a1\n",
    "\n",
    "par, cov = fitter.curve_fit(f, voltage, current)\n",
    "par\n",
    "x = np.linspace(voltage[0],voltage[-1], 50)\n",
    "y=f(x,par[0],par[1])\n",
    "plt.plot(x,y,c='red',label='Linear Fit')\n",
    "plt.scatter(voltage,current, label='Experimental Data')\n",
    "plt.title('Blue LED')\n",
    "plt.xlabel('Voltage (mV)')\n",
    "plt.ylabel('Current (nA)')\n",
    "plt.vlines(0,min(y[0],current[0]),max(y[-1],current[-1]),color='black')\n",
    "plt.hlines(0,voltage[0],voltage[-1],color='black')\n",
    "plt.grid();\n",
    "plt.legend()\n",
    "plt.savefig('Lab 4 Experiment 3 BLUE.png', facecolor='w', format='png', bbox_inches='tight')\n",
    "plt.show();\n",
    "print('Slope: {:.4f}'.format(par[0]))\n",
    "print('Y Intercept: {:.4f}'.format(par[1]))\n",
    "SVB = -par[1]/par[0]\n",
    "print('Fitted X Intercept: {}'.format(SVB))"
   ]
  },
  {
   "cell_type": "code",
   "execution_count": 36,
   "id": "6e3fee6b",
   "metadata": {},
   "outputs": [
    {
     "data": {
      "image/png": "[encoded data removed]",
      "text/plain": [
       "<Figure size 432x288 with 1 Axes>"
      ]
     },
     "metadata": {
      "needs_background": "light"
     },
     "output_type": "display_data"
    },
    {
     "name": "stdout",
     "output_type": "stream",
     "text": [
      "Slope: 3.7195\n",
      "Y Intercept: 1368.3670\n",
      "Fitted X Intercept: -367.88841394512076\n"
     ]
    }
   ],
   "source": [
    "#Green LED\n",
    "voltage = np.array([-803, -700, -607, -507, -403, -302, -204, -99, 0, 106, 205,\n",
    "                   298, 403, 496])#milivolts\n",
    "\n",
    "current = np.array([-16, -14, -9, 10, 49, 150, 324, 628, 1041, 1597, 2117,\n",
    "                   2575, 3064, 3471])#nanoamps\n",
    "par1, cov1 = fitter.curve_fit(f, voltage[3:], current[3:])\n",
    "par\n",
    "x = np.linspace(voltage[0],voltage[-1], 50)\n",
    "y=f(x,par1[0],par1[1])\n",
    "plt.plot(x,y,c='red',label='Linear Fit')\n",
    "plt.scatter(voltage,current, label='Experimental Data')\n",
    "plt.xlabel('Voltage (mV))')\n",
    "plt.ylabel('Current (nA)')\n",
    "plt.title('Green LED')\n",
    "plt.hlines(0,voltage[0],voltage[-1],color='black')\n",
    "plt.vlines(0,min(y[0],current[0]),max(y[-1],current[-1]),color='black')\n",
    "plt.grid();\n",
    "plt.legend()\n",
    "plt.savefig('Lab 4 Experiment 3 GREEN.png', facecolor='w', format='png', bbox_inches='tight')\n",
    "plt.show();\n",
    "print('Slope: {:.4f}'.format(par1[0]))\n",
    "print('Y Intercept: {:.4f}'.format(par1[1]))\n",
    "SVG = -par1[1]/par1[0]\n",
    "print('Fitted X Intercept: {}'.format(SVG))"
   ]
  },
  {
   "cell_type": "code",
   "execution_count": 35,
   "id": "8bb73003",
   "metadata": {},
   "outputs": [
    {
     "data": {
      "image/png": "[encoded data removed]",
      "text/plain": [
       "<Figure size 432x288 with 1 Axes>"
      ]
     },
     "metadata": {
      "needs_background": "light"
     },
     "output_type": "display_data"
    },
    {
     "name": "stdout",
     "output_type": "stream",
     "text": [
      "Slope: 2.0523\n",
      "Y Intercept: 298.1427\n",
      "Fitted X Intercept: -145.27592420942372\n"
     ]
    }
   ],
   "source": [
    "#RED LED\n",
    "voltage = np.array([-799, -704, -605, -506, -398, -303, -197, -104, 9, 107, 198,\n",
    "                   296, 396, 498])#milivolts\n",
    "\n",
    "current = np.array([-1, 0, -1, 0, -1, 3, 8, 49, 203, 471, 721,\n",
    "                   943, 1145, 1314])#nanoamps\n",
    "par2, cov2 = fitter.curve_fit(f, voltage[6:], current[6:])\n",
    "par\n",
    "x = np.linspace(voltage[0],voltage[-1], 50)\n",
    "y = f(x,par2[0],par2[1])\n",
    "plt.plot(x,y,c='red',label='Linear Fit')\n",
    "plt.scatter(voltage,current, label='Experimental Data')\n",
    "plt.xlabel('Voltage (mV))')\n",
    "plt.ylabel('Current (nA)')\n",
    "plt.title('Red LED')\n",
    "plt.hlines(0,voltage[0],voltage[-1],color='black')\n",
    "plt.vlines(0,min(y[0],current[0]),max(y[-1],current[-1]),color='black')\n",
    "plt.grid();\n",
    "plt.legend()\n",
    "plt.savefig('Lab 4 Experiment 3 RED.png', facecolor='w', format='png', bbox_inches='tight')\n",
    "plt.show();\n",
    "print('Slope: {:.4f}'.format(par2[0]))\n",
    "print('Y Intercept: {:.4f}'.format(par2[1]))\n",
    "SVR = -par2[1]/par2[0]\n",
    "print('Fitted X Intercept: {}'.format(SVR))"
   ]
  },
  {
   "cell_type": "code",
   "execution_count": null,
   "id": "d3335648",
   "metadata": {},
   "outputs": [],
   "source": [
    "[1] / [0]"
   ]
  },
  {
   "cell_type": "code",
   "execution_count": 67,
   "id": "157376d5",
   "metadata": {},
   "outputs": [
    {
     "data": {
      "text/plain": [
       "(4144.976834371938, 2142.887239907378, 471.51299555078447)"
      ]
     },
     "execution_count": 67,
     "metadata": {},
     "output_type": "execute_result"
    }
   ],
   "source": [
    "u0 = np.sqrt((cov[0][0]*par[1]/par[0]**2) + (cov[1][1]/par[0])**2)\n",
    "u1 = np.sqrt((cov1[0][0]*par1[1]/par1[0]**2) + (cov1[1][1]/par1[0])**2)\n",
    "u2 = np.sqrt((cov2[0][0]*par2[1]/par2[0]**2) + (cov2[1][1]/par2[0])**2)\n",
    "u0,u1,u2"
   ]
  },
  {
   "cell_type": "code",
   "execution_count": 64,
   "id": "3d465a16",
   "metadata": {},
   "outputs": [
    {
     "data": {
      "text/plain": [
       "(0.01305896554210904, 29935.759638010673)"
      ]
     },
     "execution_count": 64,
     "metadata": {},
     "output_type": "execute_result"
    }
   ],
   "source": [
    "cov2[0][0], cov[1][1]"
   ]
  },
  {
   "cell_type": "code",
   "execution_count": 86,
   "id": "90df7c92",
   "metadata": {},
   "outputs": [
    {
     "data": {
      "image/png": "[encoded data removed]",
      "text/plain": [
       "<Figure size 432x288 with 1 Axes>"
      ]
     },
     "metadata": {
      "needs_background": "light"
     },
     "output_type": "display_data"
    }
   ],
   "source": [
    "e = 1.609e-19\n",
    "c = 3e8\n",
    "h = np.abs(e * (-par1[1]/par1[0] + par[1]/par[0])/1e3 / (c*(1/533e-9 - 1/462e-9)) )\n",
    "h * 6.242e18\n",
    "\n",
    "plt.scatter([rLambda,gLambda,bLambda],np.array([SVR,SVG,SVB])*e,label='Experimental Data')\n",
    "plt.xlim(0,rLambda + 50e-9)\n",
    "plt.title('Max Kinetic Energy vs Wavelength')\n",
    "plt.xlabel('Wavelength')\n",
    "plt.ylabel('Kinetic Energy')\n",
    "\n",
    "par3, cov3 = fitter.curve_fit(f, [rLambda,gLambda,bLambda],np.array([SVR,SVG,SVB])*e)\n",
    "par\n",
    "x = np.linspace(0,rLambda+50e-9, 50)\n",
    "y = f(x,par3[0],par3[1])\n",
    "plt.plot(x,y,c='red',label='Linear Fit')\n",
    "\n",
    "plt.legend();\n",
    "\n",
    "#plt.savefig('Lab 4 Experiment 3 KSTOP.png', facecolor='w', format='png', bbox_inches='tight')"
   ]
  },
  {
   "cell_type": "code",
   "execution_count": 88,
   "id": "ba1a9bba",
   "metadata": {},
   "outputs": [
    {
     "data": {
      "text/plain": [
       "array([-1.26796423e-22,  1.84505932e-16])"
      ]
     },
     "execution_count": 88,
     "metadata": {},
     "output_type": "execute_result"
    },
    {
     "data": {
      "image/png": "[encoded data removed]",
      "text/plain": [
       "<Figure size 432x288 with 1 Axes>"
      ]
     },
     "metadata": {
      "needs_background": "light"
     },
     "output_type": "display_data"
    }
   ],
   "source": [
    "e = 1.609e-19\n",
    "c = 3e8\n",
    "h = np.abs(e * (-par1[1]/par1[0] + par[1]/par[0])/1e3 / (c*(1/533e-9 - 1/462e-9)) )\n",
    "h * 6.242e18\n",
    "\n",
    "plt.scatter(1/np.array([rLambda,gLambda,bLambda]),np.array([SVR,SVG,SVB])*e,\n",
    "            label='Experimental Data')\n",
    "#plt.xlim(0,rLambda + 50e-9)\n",
    "plt.title('Max Kinetic Energy vs Wavelength')\n",
    "plt.xlabel('Wavelength')\n",
    "plt.ylabel('Kinetic Energy')\n",
    "\n",
    "par3, cov3 = fitter.curve_fit(f, 1/np.array([rLambda,gLambda,bLambda]),np.array([SVR,SVG,SVB])*e)\n",
    "par\n",
    "x = np.linspace(0,1/bLambda, 50)\n",
    "y = f(x,par3[0],par3[1])\n",
    "plt.plot(x,y,c='red',label='Linear Fit')\n",
    "\n",
    "plt.legend();\n",
    "par3\n",
    "#plt.savefig('Lab 4 Experiment 3 KSTOP.png', facecolor='w', format='png', bbox_inches='tight')"
   ]
  },
  {
   "cell_type": "code",
   "execution_count": 53,
   "id": "2c6bb988",
   "metadata": {},
   "outputs": [
    {
     "data": {
      "text/plain": [
       "(0.0, 0.0)"
      ]
     },
     "execution_count": 53,
     "metadata": {},
     "output_type": "execute_result"
    }
   ],
   "source": [
    "-par1[1]/par1[0] - SVG, par[1]/par[0] + SVB"
   ]
  },
  {
   "cell_type": "code",
   "execution_count": 85,
   "id": "3fd577b9",
   "metadata": {},
   "outputs": [
    {
     "data": {
      "text/plain": [
       "array([-1.26796423e-22,  1.84505932e-16])"
      ]
     },
     "execution_count": 85,
     "metadata": {},
     "output_type": "execute_result"
    }
   ],
   "source": [
    "par3"
   ]
  },
  {
   "cell_type": "code",
   "execution_count": 61,
   "id": "8e232517",
   "metadata": {},
   "outputs": [],
   "source": [
    "rLambda = 618e-9 - 10e-9\n",
    "gLambda = 533e-9 - 10e-9\n",
    "bLambda = 462e-9 - 10e-9"
   ]
  },
  {
   "cell_type": "code",
   "execution_count": 62,
   "id": "97c38ada",
   "metadata": {},
   "outputs": [
    {
     "name": "stdout",
     "output_type": "stream",
     "text": [
      "2.6462892533475447e-15\n",
      "1.562943277938335\n"
     ]
    }
   ],
   "source": [
    "h1 = np.abs(e * (SVG - SVB)/1e3 / (c*(1/gLambda - 1/bLambda)) )* 6.242e18\n",
    "h2 = np.abs(e * (SVG - SVR)/1e3 / (c*(1/gLambda - 1/rLambda)) )* 6.242e18\n",
    "h3 = np.abs(e * (SVR - SVB)/1e3 / (c*(1/rLambda - 1/bLambda)) )* 6.242e18\n",
    "h = (h1+h2+h3)/3\n",
    "print(h)\n",
    "print(4.136e-15/h)"
   ]
  },
  {
   "cell_type": "markdown",
   "id": "ec96a8b2",
   "metadata": {},
   "source": [
    "### Below is test code used for prelimary analysis of experiments 4 and 5, to see the full analysis code check the other files in the repository"
   ]
  },
  {
   "cell_type": "markdown",
   "id": "c1ec653b",
   "metadata": {},
   "source": [
    "# Experiment 4"
   ]
  },
  {
   "cell_type": "code",
   "execution_count": 16,
   "id": "1ccca2cf",
   "metadata": {},
   "outputs": [],
   "source": [
    "def calcH(lambda1, volt1, lambda2, volt2):\n",
    "    c = 3e8\n",
    "    e = 1.609e-19\n",
    "    t1 = e * (volt1 - volt2)\n",
    "    t2 = c * (1/lambda1 - 1/lambda2)\n",
    "    return np.abs(t1/t2)"
   ]
  },
  {
   "cell_type": "code",
   "execution_count": 23,
   "id": "a31f74fb",
   "metadata": {},
   "outputs": [],
   "source": [
    "#Violet Light\n",
    "vLambda = 405e-9\n",
    "stopVoltV = np.array([-1.15, -1.09, -1.09, -1.10, -1.11])#Volts\n",
    "\n",
    "#Green Laser\n",
    "gLambda = 532e-9\n",
    "stopVoltG = np.array([-0.443, -0.485, -0.464, -0.424, -0.455])#Volts\n",
    "\n",
    "#Red Laser\n",
    "rLambda = 634.6e-9\n",
    "stopVoltR = np.array([-0.052, -0.063, -0.045, -0.050, -0.068])#Volts"
   ]
  },
  {
   "cell_type": "code",
   "execution_count": 24,
   "id": "9c2b068c",
   "metadata": {},
   "outputs": [
    {
     "data": {
      "text/plain": [
       "6.31827953325784e-34"
      ]
     },
     "execution_count": 24,
     "metadata": {},
     "output_type": "execute_result"
    }
   ],
   "source": [
    "e = 1.609e-19\n",
    "c = 3e8\n",
    "h = np.abs(e * (stopVoltV.mean() - stopVoltG.mean()) / (c*(1/vLambda - 1/gLambda)) )\n",
    "h = calcH(vLambda, stopVoltV.mean(), rLambda, stopVoltR.mean())\n",
    "h #* 6.242e18"
   ]
  },
  {
   "cell_type": "code",
   "execution_count": 32,
   "id": "fb55e878",
   "metadata": {},
   "outputs": [
    {
     "data": {
      "text/plain": [
       "<matplotlib.collections.PathCollection at 0x22f9780b8e0>"
      ]
     },
     "execution_count": 32,
     "metadata": {},
     "output_type": "execute_result"
    },
    {
     "data": {
      "image/png": "[encoded data removed]",
      "text/plain": [
       "<Figure size 432x288 with 1 Axes>"
      ]
     },
     "metadata": {
      "needs_background": "light"
     },
     "output_type": "display_data"
    }
   ],
   "source": [
    "x = [rLambda, gLambda, vLambda]\n",
    "y = [stopVoltR.mean(), stopVoltG.mean(), stopVoltV.mean()]\n",
    "plt.scatter(x,y)"
   ]
  },
  {
   "cell_type": "code",
   "execution_count": 29,
   "id": "6a372278",
   "metadata": {},
   "outputs": [
    {
     "name": "stdout",
     "output_type": "stream",
     "text": [
      "6.31827953325784e-34\n",
      "5.948981798740157e-34\n",
      "7.034551655012352e-34\n"
     ]
    }
   ],
   "source": [
    "print(calcH(vLambda, stopVoltV.mean(), rLambda, stopVoltR.mean()))\n",
    "print(calcH(vLambda, stopVoltV.mean(), gLambda, stopVoltG.mean()))\n",
    "print(calcH(gLambda, stopVoltG.mean(), rLambda, stopVoltR.mean()))"
   ]
  },
  {
   "cell_type": "code",
   "execution_count": 30,
   "id": "83a9554a",
   "metadata": {},
   "outputs": [
    {
     "data": {
      "text/plain": [
       "6.433937662336783e-34"
      ]
     },
     "execution_count": 30,
     "metadata": {},
     "output_type": "execute_result"
    }
   ],
   "source": [
    "(calcH(vLambda, stopVoltV.mean(), rLambda, stopVoltR.mean())+ calcH(vLambda, stopVoltV.mean(), gLambda, stopVoltG.mean())+calcH(gLambda, stopVoltG.mean(), rLambda, stopVoltR.mean()))/3"
   ]
  },
  {
   "cell_type": "markdown",
   "id": "63cac530",
   "metadata": {},
   "source": [
    "# Experiment 5"
   ]
  },
  {
   "cell_type": "code",
   "execution_count": 47,
   "id": "44474df1",
   "metadata": {},
   "outputs": [],
   "source": [
    "def g(x, a0, a1):\n",
    "    return a0*np.cos(np.deg2rad(x)*a1)**2 \n",
    "\n"
   ]
  },
  {
   "cell_type": "code",
   "execution_count": 62,
   "id": "0994c963",
   "metadata": {},
   "outputs": [
    {
     "data": {
      "text/plain": [
       "[<matplotlib.lines.Line2D at 0x22f9aeab1f0>]"
      ]
     },
     "execution_count": 62,
     "metadata": {},
     "output_type": "execute_result"
    },
    {
     "data": {
      "image/png": "[encoded data removed]",
      "text/plain": [
       "<Figure size 432x288 with 1 Axes>"
      ]
     },
     "metadata": {
      "needs_background": "light"
     },
     "output_type": "display_data"
    }
   ],
   "source": [
    "#Violet Laset\n",
    "relativeAngle = np.array([0, 15, 30, 45, 60, 75, 90, 105]) #degrees\n",
    "current = np.array([98, 80, 43, 14, 0, -3, -3,0]) #nanoamps\n",
    "tubeVoltage = 230\n",
    "\n",
    "I = np.cos(np.deg2rad(relativeAngle))**2\n",
    "#plt.scatter(I,current)\n",
    "#plt.show()\n",
    "plt.scatter(relativeAngle,current)\n",
    "\n",
    "par, cov = fitter.curve_fit(g, relativeAngle[:], current[:],[100,  1.12147659])\n",
    "x = np.linspace(0,105,100)\n",
    "plt.plot(x,g(x,par[0],par[1]),c='red')"
   ]
  },
  {
   "cell_type": "code",
   "execution_count": 63,
   "id": "add9f49a",
   "metadata": {},
   "outputs": [],
   "source": [
    "#blue LED\n",
    "relativeAngle = np.array([0, 15, 30, 45, 60, 75, 90, 105, 120, 135, 150, 165, 180]) #degrees\n",
    "current = np.array([903, 852, 706, 509, 305, 98, 7, 65, 254, 498, 717, 845, 895]) #nanoamps\n",
    "tubeVoltage = 224\n",
    "#ON L28"
   ]
  },
  {
   "cell_type": "code",
   "execution_count": 70,
   "id": "39e5eeed",
   "metadata": {},
   "outputs": [
    {
     "data": {
      "image/png": "[encoded data removed]",
      "text/plain": [
       "<Figure size 432x288 with 1 Axes>"
      ]
     },
     "metadata": {
      "needs_background": "light"
     },
     "output_type": "display_data"
    },
    {
     "data": {
      "text/plain": [
       "<matplotlib.collections.PathCollection at 0x22f9b156070>"
      ]
     },
     "execution_count": 70,
     "metadata": {},
     "output_type": "execute_result"
    },
    {
     "data": {
      "image/png": "[encoded data removed]",
      "text/plain": [
       "<Figure size 432x288 with 1 Axes>"
      ]
     },
     "metadata": {
      "needs_background": "light"
     },
     "output_type": "display_data"
    }
   ],
   "source": [
    "\n",
    "plt.scatter(relativeAngle,current)\n",
    "par, cov = fitter.curve_fit(g, relativeAngle[:], current[:],[900,1])\n",
    "x = np.linspace(0,180,500)\n",
    "plt.plot(x,g(x,par[0],par[1]),c='red')\n",
    "plt.show()\n",
    "I = np.cos(np.deg2rad(relativeAngle))**2\n",
    "plt.scatter(I,current)"
   ]
  },
  {
   "cell_type": "code",
   "execution_count": 73,
   "id": "149405a6",
   "metadata": {},
   "outputs": [],
   "source": [
    "#Green LED\n",
    "\n",
    "current = np.array([407, 378, 309, 203, 105, 21, -7, 23, 112, 218, 318, 382, 400]) #nanoamps\n",
    "relativeAngle = np.arange(0,15*len(current),15) #degrees\n",
    "tubeVoltage = 228\n",
    "#ON L30"
   ]
  },
  {
   "cell_type": "code",
   "execution_count": 74,
   "id": "29e1afb1",
   "metadata": {},
   "outputs": [
    {
     "data": {
      "image/png": "[encoded data removed]",
      "text/plain": [
       "<Figure size 432x288 with 1 Axes>"
      ]
     },
     "metadata": {
      "needs_background": "light"
     },
     "output_type": "display_data"
    },
    {
     "data": {
      "text/plain": [
       "<matplotlib.collections.PathCollection at 0x22f9b24f790>"
      ]
     },
     "execution_count": 74,
     "metadata": {},
     "output_type": "execute_result"
    },
    {
     "data": {
      "image/png": "[encoded data removed]",
      "text/plain": [
       "<Figure size 432x288 with 1 Axes>"
      ]
     },
     "metadata": {
      "needs_background": "light"
     },
     "output_type": "display_data"
    }
   ],
   "source": [
    "plt.scatter(relativeAngle,current)\n",
    "par, cov = fitter.curve_fit(g, relativeAngle[:], current[:],[900,1])\n",
    "x = np.linspace(0,180,500)\n",
    "plt.plot(x,g(x,par[0],par[1]),c='red')\n",
    "plt.show()\n",
    "I = np.cos(np.deg2rad(relativeAngle))**2\n",
    "plt.scatter(I,current)"
   ]
  }
 ],
 "metadata": {
  "kernelspec": {
   "display_name": "Python 3 (ipykernel)",
   "language": "python",
   "name": "python3"
  },
  "language_info": {
   "codemirror_mode": {
    "name": "ipython",
    "version": 3
   },
   "file_extension": ".py",
   "mimetype": "text/x-python",
   "name": "python",
   "nbconvert_exporter": "python",
   "pygments_lexer": "ipython3",
   "version": "3.9.1"
  }
 },
 "nbformat": 4,
 "nbformat_minor": 5
}
