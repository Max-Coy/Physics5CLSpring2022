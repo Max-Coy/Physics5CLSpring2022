{
 "cells": [
  {
   "cell_type": "markdown",
   "id": "437c1550",
   "metadata": {},
   "source": [
    "As the name would suggest in the following cell there is the first set of data we collected. The resistance as a function of voltage graph is wrong (i.e. the curve does not have the correct shape) which is how we determined the data to be bad. The data was therefore retaken and this data was not used in analysis but for documentation reasons this data was not simply deleted."
   ]
  },
  {
   "cell_type": "code",
   "execution_count": null,
   "id": "01a8e630",
   "metadata": {},
   "outputs": [],
   "source": [
    "V = np.array([3.94, 4.47, 4.96, 5.50, 5.95, 6.49]) #Mega Volts\n",
    "I = np.array([0.17, 0.37, 0.56, 0.77, 0.95, 1.18]) #Amps\n",
    "\n",
    "current = np.array([0.04, 0.28, 0.19, 0.01])\n",
    "voltage = np.array([3.52, 4.17, 3.97, 2.39])"
   ]
  }
 ],
 "metadata": {
  "kernelspec": {
   "display_name": "Python 3 (ipykernel)",
   "language": "python",
   "name": "python3"
  },
  "language_info": {
   "codemirror_mode": {
    "name": "ipython",
    "version": 3
   },
   "file_extension": ".py",
   "mimetype": "text/x-python",
   "name": "python",
   "nbconvert_exporter": "python",
   "pygments_lexer": "ipython3",
   "version": "3.9.1"
  }
 },
 "nbformat": 4,
 "nbformat_minor": 5
}
