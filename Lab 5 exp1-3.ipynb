{
 "cells": [
  {
   "cell_type": "code",
   "execution_count": 1,
   "id": "26335f74",
   "metadata": {},
   "outputs": [],
   "source": [
    "import numpy as np\n",
    "import matplotlib.pyplot as plt\n",
    "import scipy.optimize as fitter"
   ]
  },
  {
   "cell_type": "code",
   "execution_count": 2,
   "id": "e1149706",
   "metadata": {},
   "outputs": [],
   "source": [
    "#Code nabbed from: http://www.noah.org/wiki/Wavelength_to_RGB_in_Python\n",
    "def wavelength_to_rgb(wavelength, gamma=0.8):\n",
    "\n",
    "    '''This converts a given wavelength of light to an \n",
    "    approximate RGB color value. The wavelength must be given\n",
    "    in nanometers in the range from 380 nm through 750 nm\n",
    "    (789 THz through 400 THz).\n",
    "\n",
    "    Based on code by Dan Bruton\n",
    "    http://www.physics.sfasu.edu/astro/color/spectra.html\n",
    "    '''\n",
    "\n",
    "    wavelength = float(wavelength)\n",
    "    if wavelength >= 380 and wavelength <= 440:\n",
    "        attenuation = 0.3 + 0.7 * (wavelength - 380) / (440 - 380)\n",
    "        R = ((-(wavelength - 440) / (440 - 380)) * attenuation) ** gamma\n",
    "        G = 0.0\n",
    "        B = (1.0 * attenuation) ** gamma\n",
    "    elif wavelength >= 440 and wavelength <= 490:\n",
    "        R = 0.0\n",
    "        G = ((wavelength - 440) / (490 - 440)) ** gamma\n",
    "        B = 1.0\n",
    "    elif wavelength >= 490 and wavelength <= 510:\n",
    "        R = 0.0\n",
    "        G = 1.0\n",
    "        B = (-(wavelength - 510) / (510 - 490)) ** gamma\n",
    "    elif wavelength >= 510 and wavelength <= 580:\n",
    "        R = ((wavelength - 510) / (580 - 510)) ** gamma\n",
    "        G = 1.0\n",
    "        B = 0.0\n",
    "    elif wavelength >= 580 and wavelength <= 645:\n",
    "        R = 1.0\n",
    "        G = (-(wavelength - 645) / (645 - 580)) ** gamma\n",
    "        B = 0.0\n",
    "    elif wavelength >= 645 and wavelength <= 750:\n",
    "        attenuation = 0.3 + 0.7 * (750 - wavelength) / (750 - 645)\n",
    "        R = (1.0 * attenuation) ** gamma\n",
    "        G = 0.0\n",
    "        B = 0.0\n",
    "    else:\n",
    "        R = 0.0\n",
    "        G = 0.0\n",
    "        B = 0.0\n",
    "    R *= 255\n",
    "    G *= 255\n",
    "    B *= 255\n",
    "    return (int(R), int(G), int(B))"
   ]
  },
  {
   "cell_type": "markdown",
   "id": "5a981e34",
   "metadata": {},
   "source": [
    "# Experiment 1"
   ]
  },
  {
   "cell_type": "markdown",
   "id": "d1ea6230",
   "metadata": {},
   "source": [
    "#### 1.1: Calibration"
   ]
  },
  {
   "cell_type": "code",
   "execution_count": 3,
   "id": "81d916f9",
   "metadata": {},
   "outputs": [
    {
     "name": "stdout",
     "output_type": "stream",
     "text": [
      "Yellow Line\n",
      "Angle between grating and inner edge: 16.8765 degrees\n",
      "Angle between grating and outer edge: 16.9382 degrees\n",
      "Minimum Wavelength: 580.6193 nm\n",
      "Maximum Wavelength: 591.2565 nm\n"
     ]
    }
   ],
   "source": [
    "#Yellow Line\n",
    "spc = 5000\n",
    "screenLoc = 0\n",
    "gratingLoc = 63.7\n",
    "innerSep = np.array([19.4, 19.25])\n",
    "outerSep = np.array([19.5, 19.3])\n",
    "slitDist = 0.1e7 #converted to nanometers\n",
    "\n",
    "angle1 = np.rad2deg(np.arctan(innerSep.mean() / (gratingLoc - screenLoc)))\n",
    "angle2 = np.rad2deg(np.arctan(outerSep.mean() / (gratingLoc - screenLoc)))\n",
    "waveMin = np.sin(np.deg2rad(angle1)) / spc *1e7\n",
    "waveMax = np.deg2rad(angle2) / spc *1e7\n",
    "\n",
    "print('Yellow Line')\n",
    "print('Angle between grating and inner edge: {:.4f} degrees'.format(angle1))\n",
    "print('Angle between grating and outer edge: {:.4f} degrees'.format(angle2))\n",
    "print('Minimum Wavelength: {:.4f} nm'.format(waveMin))\n",
    "print('Maximum Wavelength: {:.4f} nm'.format(waveMax))"
   ]
  },
  {
   "cell_type": "markdown",
   "id": "e17405ac",
   "metadata": {},
   "source": [
    "#### 1.2: Helium Spectrum"
   ]
  },
  {
   "cell_type": "code",
   "execution_count": 10,
   "id": "f83f8096",
   "metadata": {},
   "outputs": [
    {
     "data": {
      "image/png": "[encoded data removed]",
      "text/plain": [
       "<Figure size 432x288 with 1 Axes>"
      ]
     },
     "metadata": {
      "needs_background": "light"
     },
     "output_type": "display_data"
    },
    {
     "data": {
      "image/png": "[encoded data removed]",
      "text/plain": [
       "<Figure size 432x288 with 1 Axes>"
      ]
     },
     "metadata": {
      "needs_background": "light"
     },
     "output_type": "display_data"
    }
   ],
   "source": [
    "screenLoc = 0\n",
    "gratingLoc = 63.7\n",
    "center = np.array([15.4, 16.7,18.4, 20.75, 0.05])#Last one is to see how error would propagate\n",
    "WL = []\n",
    "for i in range(len(center)):\n",
    "    angle = np.rad2deg(np.arctan(center[i] / (gratingLoc - screenLoc)))\n",
    "    wavelength = np.sin(np.deg2rad(angle)) / spc *1e7\n",
    "\n",
    "#     print('Line {}'.format(int(i+1)))\n",
    "#     print('Angle between grating and line: {:.4f} degrees'.format(angle))\n",
    "#     print('Wavelength: {:.4f} nm'.format(wavelength))\n",
    "#     print('RGB: {}'.format(wavelength_to_rgb(wavelength)))\n",
    "    WL.append(wavelength)\n",
    "WL = np.array(WL)\n",
    "colors = []\n",
    "for i in WL:\n",
    "    colors.append(wavelength_to_rgb(i))\n",
    "colors = np.array(colors) / 255\n",
    "fig, ax = plt.subplots() \n",
    "ax.vlines(x=WL, ymin = 0, ymax=1, colors=colors)\n",
    "ax.set_xlim(380,750)\n",
    "ax.set_ylim(0,1)\n",
    "ax.set_xlabel('Wavelength (nm)')\n",
    "ax.set_title('Experimental Helium Spectrum')\n",
    "ax.set_yticks([]);\n",
    "plt.savefig('Experimental Helium Spectrum.png',facecolor='w',format='png', bbox_inches='tight')\n",
    "plt.show()\n",
    "\n",
    "Helium = [439, 447, 471, 492, 502, 522, 537, 584.3, 667]\n",
    "fig, ax = plt.subplots() \n",
    "colors = []\n",
    "for i in Helium:\n",
    "    colors.append(wavelength_to_rgb(i))\n",
    "colors = np.array(colors) / 255\n",
    "ax.vlines(x=Helium, ymin = 0, ymax=1, colors=colors)\n",
    "ax.set_xlim(380,750)\n",
    "ax.set_ylim(0,1)\n",
    "ax.set_xlabel('Wavelength (nm)')\n",
    "ax.set_title('Helium Spectrum')\n",
    "ax.set_yticks([]);\n",
    "plt.savefig('Helium Spectrum.png',facecolor='w',format='png', bbox_inches='tight')"
   ]
  },
  {
   "cell_type": "code",
   "execution_count": 11,
   "id": "52574110",
   "metadata": {},
   "outputs": [
    {
     "data": {
      "text/plain": [
       "array([469.97712073, 507.19245639, 555.01743755, 619.45456244,\n",
       "         1.56985823])"
      ]
     },
     "execution_count": 11,
     "metadata": {},
     "output_type": "execute_result"
    }
   ],
   "source": [
    "WL"
   ]
  },
  {
   "cell_type": "markdown",
   "id": "b6e1b8c5",
   "metadata": {},
   "source": [
    "# Experiment 2"
   ]
  },
  {
   "cell_type": "code",
   "execution_count": 4,
   "id": "ca94ec8e",
   "metadata": {},
   "outputs": [
    {
     "data": {
      "image/png": "[encoded data removed]",
      "text/plain": [
       "<Figure size 432x288 with 1 Axes>"
      ]
     },
     "metadata": {
      "needs_background": "light"
     },
     "output_type": "display_data"
    }
   ],
   "source": [
    "spc = 5000\n",
    "screenLoc = 0\n",
    "gratingLoc = 63.7\n",
    "center = np.array([21.5,21.75,15.6,16.05,13.7,14.2])\n",
    "WL1 = []\n",
    "for i in range(len(center)):\n",
    "    angle = np.rad2deg(np.arctan(center[i] / (gratingLoc - screenLoc)))\n",
    "    wavelength = np.sin(np.deg2rad(angle)) / spc *1e7\n",
    "\n",
    "#     print('Line {}'.format(int(i+1)))\n",
    "#     print('Angle between grating and line: {:.4f} degrees'.format(angle))\n",
    "#     print('Wavelength: {:.4f} nm'.format(wavelength))\n",
    "#     print('RGB: {}'.format(wavelength_to_rgb(wavelength)))\n",
    "    WL1.append(wavelength)\n",
    "WL1 = np.array(WL1)\n",
    "colors = []\n",
    "for i in WL1:\n",
    "    colors.append(wavelength_to_rgb(i))\n",
    "colors = np.array(colors) / 255\n",
    "fig, ax = plt.subplots() \n",
    "ax.vlines(x=WL1, ymin = 0, ymax=1, colors=colors)\n",
    "ax.set_xlim(380,750)\n",
    "ax.set_ylim(0,1)\n",
    "ax.set_xlabel('Wavelength (nm)')\n",
    "ax.set_title('Hydrogen Spectrum (Length 1)')\n",
    "ax.set_yticks([]);"
   ]
  },
  {
   "cell_type": "code",
   "execution_count": 5,
   "id": "d5e13743",
   "metadata": {},
   "outputs": [
    {
     "data": {
      "image/png": "[encoded data removed]",
      "text/plain": [
       "<Figure size 432x288 with 1 Axes>"
      ]
     },
     "metadata": {
      "needs_background": "light"
     },
     "output_type": "display_data"
    }
   ],
   "source": [
    "screenLoc = 0\n",
    "gratingLoc = 35.7\n",
    "center = np.array([12.15,12.3,8.9,8.9,7.8,7.7])\n",
    "WL2 = []\n",
    "for i in range(len(center)):\n",
    "    angle = np.rad2deg(np.arctan(center[i] / (gratingLoc - screenLoc)))\n",
    "    wavelength = np.sin(np.deg2rad(angle)) / spc *1e7\n",
    "\n",
    "#     print('Line {}'.format(int(i+1)))\n",
    "#     print('Angle between grating and line: {:.4f} degrees'.format(angle))\n",
    "#     print('Wavelength: {:.4f} nm'.format(wavelength))\n",
    "    #print('RGB: {}'.format(wavelength_to_rgb(wavelength)))\n",
    "    WL2.append(wavelength)\n",
    "WL2 = np.array(WL2)\n",
    "colors = []\n",
    "for i in WL2:\n",
    "    colors.append(wavelength_to_rgb(i))\n",
    "colors = np.array(colors) / 255\n",
    "fig, ax = plt.subplots() \n",
    "ax.vlines(x=WL2, ymin = 0, ymax=1, colors=colors)\n",
    "ax.set_xlim(380,750)\n",
    "ax.set_ylim(0,1)\n",
    "ax.set_xlabel('Wavelength (nm)')\n",
    "ax.set_title('Hydrogen Spectrum (Length 2)')\n",
    "ax.set_yticks([]);"
   ]
  },
  {
   "cell_type": "code",
   "execution_count": 6,
   "id": "db6b7fb7",
   "metadata": {},
   "outputs": [
    {
     "data": {
      "image/png": "[encoded data removed]",
      "text/plain": [
       "<Figure size 432x288 with 1 Axes>"
      ]
     },
     "metadata": {
      "needs_background": "light"
     },
     "output_type": "display_data"
    }
   ],
   "source": [
    "screenLoc = 0\n",
    "gratingLoc = 21.9\n",
    "center = np.array([7.4,7.3,5.4,5.3,4.75,4.8])\n",
    "WL3 = []\n",
    "for i in range(len(center)):\n",
    "    angle = np.rad2deg(np.arctan(center[i] / (gratingLoc - screenLoc)))\n",
    "    wavelength = np.sin(np.deg2rad(angle)) / spc *1e7\n",
    "\n",
    "#     print('Line {}'.format(int(i+1)))\n",
    "#     print('Angle between grating and line: {:.4f} degrees'.format(angle))\n",
    "#     print('Wavelength: {:.4f} nm'.format(wavelength))\n",
    "#     print('RGB: {}'.format(wavelength_to_rgb(wavelength)))\n",
    "    WL3.append(wavelength)\n",
    "WL3 = np.array(WL3)\n",
    "colors = []\n",
    "for i in WL3:\n",
    "    colors.append(wavelength_to_rgb(i))\n",
    "colors = np.array(colors) / 255\n",
    "fig, ax = plt.subplots() \n",
    "ax.vlines(x=WL3, ymin = 0, ymax=1, colors=colors)\n",
    "ax.set_xlim(380,750)\n",
    "ax.set_ylim(0,1)\n",
    "ax.set_xlabel('Wavelength (nm)')\n",
    "ax.set_title('Hydrogen Spectrum (Length 3)')\n",
    "ax.set_yticks([]);"
   ]
  },
  {
   "cell_type": "code",
   "execution_count": 21,
   "id": "e9e38f0d",
   "metadata": {},
   "outputs": [
    {
     "data": {
      "text/plain": [
       "array([642.40098019, 480.20360155, 426.06479098])"
      ]
     },
     "execution_count": 21,
     "metadata": {},
     "output_type": "execute_result"
    }
   ],
   "source": [
    "\n",
    "specLines"
   ]
  },
  {
   "cell_type": "code",
   "execution_count": 50,
   "id": "7aafe451",
   "metadata": {},
   "outputs": [
    {
     "data": {
      "image/png": "[encoded data removed]",
      "text/plain": [
       "<Figure size 432x288 with 1 Axes>"
      ]
     },
     "metadata": {
      "needs_background": "light"
     },
     "output_type": "display_data"
    }
   ],
   "source": [
    "WL = np.array([WL1, WL2, WL3])\n",
    "specLines = WL.T.mean(axis=1)\n",
    "specLines = np.array([np.mean(specLines[:2]), np.mean(specLines[2:4]), np.mean(specLines[4:6])])\n",
    "colors = []\n",
    "for i in specLines:\n",
    "    colors.append(wavelength_to_rgb(i))\n",
    "colors = np.array(colors) / 255\n",
    "fig, ax = plt.subplots() \n",
    "ax.vlines(x=specLines, ymin = 0, ymax=1, colors=colors)\n",
    "ax.set_xlim(380,750)\n",
    "ax.set_ylim(0,1)\n",
    "ax.set_xlabel('Wavelength (nm)')\n",
    "ax.set_title('Measured Hydrogen Spectrum')\n",
    "ax.set_yticks([]);\n",
    "#plt.savefig('Experiment 2 Measured Hydrogen Spectrum.png',facecolor='w',format='png',bbox_inches='tight')"
   ]
  },
  {
   "cell_type": "code",
   "execution_count": 51,
   "id": "270df756",
   "metadata": {},
   "outputs": [
    {
     "data": {
      "image/png": "[encoded data removed]",
      "text/plain": [
       "<Figure size 432x288 with 1 Axes>"
      ]
     },
     "metadata": {
      "needs_background": "light"
     },
     "output_type": "display_data"
    }
   ],
   "source": [
    "realValues = np.array([656,486,434])\n",
    "colors = []\n",
    "for i in realValues:\n",
    "    colors.append(wavelength_to_rgb(i))\n",
    "colors = np.array(colors) / 255\n",
    "fig, ax = plt.subplots() \n",
    "ax.vlines(x=realValues, ymin = 0, ymax=1, colors=colors)\n",
    "ax.set_xlim(380,750)\n",
    "ax.set_ylim(0,1)\n",
    "ax.set_xlabel('Wavelength (nm)')\n",
    "ax.set_title('Hydrogen Spectrum (True Values)')\n",
    "ax.set_yticks([]);\n",
    "plt.savefig('Hydrogen Spectrum.png',facecolor='w',format='png',bbox_inches='tight')"
   ]
  },
  {
   "cell_type": "code",
   "execution_count": 52,
   "id": "fedfc5ee",
   "metadata": {},
   "outputs": [],
   "source": [
    "specErr = WL.T.mean(axis=1)\n",
    "specErr = np.array([np.std(specErr[:2])/np.sqrt(len(specErr[:2])), \n",
    "                    np.std(specErr[2:4])/np.sqrt(len(specErr[:4])), \n",
    "                    np.std(specErr[4:6])/np.sqrt(len(specErr[:6]))])\n",
    "specDev = WL.T.mean(axis=1)\n",
    "specDev = np.array([np.std(specDev[:2]), \n",
    "                    np.std(specDev[2:4]), \n",
    "                    np.std(specDev[4:6])])"
   ]
  },
  {
   "cell_type": "code",
   "execution_count": 14,
   "id": "613e2924",
   "metadata": {},
   "outputs": [
    {
     "data": {
      "text/plain": [
       "(array([642.40098019, 480.20360155, 426.06479098]),\n",
       " array([0.99982919, 0.7571512 , 2.27731307]),\n",
       " array([0.706986  , 0.3785756 , 0.92970917]))"
      ]
     },
     "execution_count": 14,
     "metadata": {},
     "output_type": "execute_result"
    }
   ],
   "source": [
    "specLines, specDev, specErr"
   ]
  },
  {
   "cell_type": "code",
   "execution_count": 63,
   "id": "81aec7d4",
   "metadata": {},
   "outputs": [
    {
     "data": {
      "image/png": "[encoded data removed]",
      "text/plain": [
       "<Figure size 432x288 with 1 Axes>"
      ]
     },
     "metadata": {
      "needs_background": "light"
     },
     "output_type": "display_data"
    }
   ],
   "source": [
    "xData = 1/np.array([3,4,5])**2\n",
    "yData = 1/(specLines*1e-9)\n",
    "plt.errorbar(xData,yData ,yerr=1/(specErr), fmt='o', label='Data')\n",
    "def f(x, a0, a1):\n",
    "    return a0 + a1*x\n",
    "par, cov = fitter.curve_fit(f,xData,yData)\n",
    "\n",
    "x = np.linspace(min(xData),max(xData),100)\n",
    "plt.plot(x,f(x,par[0],par[1]),color='red',label='Fitted Curve')\n",
    "plt.legend()\n",
    "plt.title('1/ni vs 1/lambda')\n",
    "plt.savefig('stats shit.png',facecolor='w',format='png',bbox_inches='tight')"
   ]
  },
  {
   "cell_type": "code",
   "execution_count": 61,
   "id": "9e93c89c",
   "metadata": {},
   "outputs": [
    {
     "data": {
      "text/plain": [
       "(11067166.365697289, 225683.36968664784)"
      ]
     },
     "execution_count": 61,
     "metadata": {},
     "output_type": "execute_result"
    }
   ],
   "source": [
    "h = 4.135e-15\n",
    "c = 3e8\n",
    "-par[1],np.sqrt(cov[1][1])"
   ]
  },
  {
   "cell_type": "code",
   "execution_count": 24,
   "id": "aefb6178",
   "metadata": {},
   "outputs": [
    {
     "data": {
      "image/png": "[encoded data removed]",
      "text/plain": [
       "<Figure size 432x288 with 1 Axes>"
      ]
     },
     "metadata": {
      "needs_background": "light"
     },
     "output_type": "display_data"
    }
   ],
   "source": [
    "realValues = np.array([656,486,434])\n",
    "colors = []\n",
    "for i in realValues:\n",
    "    colors.append(wavelength_to_rgb(i))\n",
    "colors = np.array(colors) / 255\n",
    "\n",
    "fig, ax = plt.subplots() \n",
    "ax.vlines(x=realValues, ymin = 0, ymax=1, colors=colors)\n",
    "\n",
    "bandOne = np.linspace(specLines[0]-specErr[0],specLines[0]+specErr[0], 50)\n",
    "bandTwo = np.linspace(specLines[1]-specErr[1],specLines[1]+specErr[1], 50)\n",
    "bandThree = np.linspace(specLines[2]-specErr[2],specLines[2]+specErr[2], 50)\n",
    "\n",
    "colorOne = []\n",
    "for i in bandOne:\n",
    "    colorOne.append(wavelength_to_rgb(i))\n",
    "colorOne = np.array(colorOne) / 255\n",
    "\n",
    "colorTwo = []\n",
    "for i in bandTwo:\n",
    "    colorTwo.append(wavelength_to_rgb(i))\n",
    "colorTwo = np.array(colorTwo) / 255\n",
    "\n",
    "colorThree = []\n",
    "for i in bandThree:\n",
    "    colorThree.append(wavelength_to_rgb(i))\n",
    "colorThree = np.array(colorThree) / 255\n",
    "\n",
    "ax.vlines(x=bandOne, ymin = 0, ymax=1, colors=colorOne, alpha=0.7)\n",
    "ax.vlines(x=bandTwo, ymin = 0, ymax=1, colors=colorTwo, alpha=0.7)\n",
    "ax.vlines(x=bandThree, ymin = 0, ymax=1, colors=colorThree, alpha=0.7)\n",
    "ax.set_xlim(380,750)\n",
    "ax.set_ylim(0,1)\n",
    "ax.set_xlabel('Wavelength (nm)')\n",
    "ax.set_title('Hydrogen Spectrum Overlay')\n",
    "ax.set_yticks([]);\n",
    "#fig.tight_layout()\n",
    "plt.savefig('Experiment 2 Hydrogen Colored Overlay.png',facecolor='w',format='png',bbox_inches='tight')"
   ]
  },
  {
   "cell_type": "markdown",
   "id": "f5e22636",
   "metadata": {},
   "source": [
    "# Experiment 3"
   ]
  },
  {
   "cell_type": "code",
   "execution_count": 3,
   "id": "d37c58a7",
   "metadata": {},
   "outputs": [
    {
     "data": {
      "image/png": "[encoded data removed]",
      "text/plain": [
       "<Figure size 432x288 with 1 Axes>"
      ]
     },
     "metadata": {
      "needs_background": "light"
     },
     "output_type": "display_data"
    },
    {
     "data": {
      "image/png": "[encoded data removed]",
      "text/plain": [
       "<Figure size 432x288 with 1 Axes>"
      ]
     },
     "metadata": {
      "needs_background": "light"
     },
     "output_type": "display_data"
    },
    {
     "data": {
      "image/png": "[encoded data removed]",
      "text/plain": [
       "<Figure size 432x288 with 1 Axes>"
      ]
     },
     "metadata": {
      "needs_background": "light"
     },
     "output_type": "display_data"
    }
   ],
   "source": [
    "#Creating Spectra for Nitrogen, Neon, and Argon\n",
    "Nitrogen = np.array([500.5, 567, 575.2, 648.2, 742.3, 744])\n",
    "colors = []\n",
    "for i in Nitrogen:\n",
    "    colors.append(wavelength_to_rgb(i))\n",
    "colors = np.array(colors) / 255\n",
    "fig, ax = plt.subplots() \n",
    "ax.vlines(x=Nitrogen, ymin = 0, ymax=1, colors=colors)\n",
    "ax.set_xlim(380,750)\n",
    "ax.set_ylim(0,1)\n",
    "ax.set_xlabel('Wavelength (nm)')\n",
    "ax.set_title('Selected Nitrogen Spectrum')\n",
    "ax.set_yticks([]);\n",
    "#plt.savefig('Selected Nitrogen Spectrum.png',facecolor='w',format='png',bbox_inches='tight')\n",
    "\n",
    "Neon = np.array([376.6259 , 377.7133 , 381.8427 , 382.9749 , 421.9745 , 423.385  ,\n",
    "       425.0649 , 436.9862 , 437.94   , 437.955  , 438.5059 , 439.1991 ,\n",
    "       439.799  , 440.9299 , 441.3215 , 442.1389 , 442.8516 , 442.8634 ,\n",
    "       443.0904 , 443.0942 , 445.7049 , 452.272  , 453.77545, 456.9057 ,\n",
    "       470.43949, 470.88594, 471.0065 , 471.20633, 471.5344 , 478.89258,\n",
    "       482.7338 , 488.4917 , 534.10938, 540.05618, 585.24879, 588.18952,\n",
    "       602.99969, 607.43377, 614.30626, 616.35939, 621.72812, 626.6495 ,\n",
    "       633.44278, 638.29917, 640.2248 , 650.65281, 659.89529, 692.94673,\n",
    "       702.40504, 703.24131, 705.91074, 717.39381, 721.32   , 723.5188 ,\n",
    "       724.51666, 734.3945 , 748.88712])\n",
    "colors = []\n",
    "for i in Neon:\n",
    "    colors.append(wavelength_to_rgb(i))\n",
    "colors = np.array(colors) / 255\n",
    "fig, ax = plt.subplots() \n",
    "ax.vlines(x=Neon, ymin = 0, ymax=1, colors=colors)\n",
    "ax.set_xlim(380,750)\n",
    "ax.set_ylim(0,1)\n",
    "ax.set_xlabel('Wavelength (nm)')\n",
    "ax.set_title('Selected Neon Spectrum')\n",
    "ax.set_yticks([]);\n",
    "#plt.savefig('Selected Neon Spectrum.png',facecolor='w',format='png',bbox_inches='tight')\n",
    "#Argon\n",
    "Argon = np.array([4131.724, 4277.528, 4348.064, 4426.001, 4545.052, 4579.35 ,\n",
    "       4589.898, 4609.567, 4657.901, 4726.868, 4735.906, 4764.865,\n",
    "       4806.02 , 4879.864, 6965.431, 7067.218, 7383.98 , 7503.869])*1e-1\n",
    "colors = []\n",
    "for i in Argon:\n",
    "    colors.append(wavelength_to_rgb(i))\n",
    "colors = np.array(colors) / 255\n",
    "fig, ax = plt.subplots() \n",
    "ax.vlines(x=Argon, ymin = 0, ymax=1, colors=colors)\n",
    "ax.set_xlim(380,750)\n",
    "ax.set_ylim(0,1)\n",
    "ax.set_xlabel('Wavelength (nm)')\n",
    "ax.set_title('Selected Argon Spectrum')\n",
    "ax.set_yticks([]);\n",
    "#plt.savefig('Selected Argon Spectrum.png',facecolor='w',format='png',bbox_inches='tight')"
   ]
  },
  {
   "cell_type": "markdown",
   "id": "6aa513b5",
   "metadata": {},
   "source": [
    "Tube B"
   ]
  },
  {
   "cell_type": "code",
   "execution_count": 39,
   "id": "d64b9fe3",
   "metadata": {
    "scrolled": false
   },
   "outputs": [
    {
     "data": {
      "image/png": "[encoded data removed]",
      "text/plain": [
       "<Figure size 1008x720 with 4 Axes>"
      ]
     },
     "metadata": {
      "needs_background": "light"
     },
     "output_type": "display_data"
    }
   ],
   "source": [
    "screenLoc = 0\n",
    "spc = 5000\n",
    "#Bad data, grating wasn't perpendicular\n",
    "# gratingLoc = np.array([34.4, 45.0])\n",
    "# center = np.array([[[9.45, 9.50], [10.2,10.4], [11.2,11.5]],\n",
    "#                   [[12.50, 12.50],[13.60, 13.80],[14.95, 14.9]],\n",
    "#                   [[0,0],[0,0],[0,0]]]) #green, yellow, red\n",
    "\n",
    "gratingLoc = np.array([25.0, 40.0, 55.0])\n",
    "center = np.array([[[6.75, 6.70], [7.45, 7.50], [8.1, 8.35]],\n",
    "                  [[10.9,11.1],[11.85,12.1],[13.1, 13.4]],\n",
    "                  [[15.05, 15.4],[16.45, 16.70],[18.1,18.55]]]) #green, yellow, red (cm)\n",
    "\n",
    "WL = []\n",
    "WLErr = []\n",
    "for i in range(len(center)):\n",
    "    temp = []\n",
    "    temp2 = []\n",
    "    for j in range(len(center[i])):\n",
    "        o = center[i][j].mean() #opposite\n",
    "        a = (gratingLoc[i] - screenLoc) #adjacent\n",
    "        \n",
    "        oErr = center[i][j].std() / np.sqrt(center[i][j].shape) #standard error\n",
    "        aErr = 0.707 #sqrt(.5^2 + .5^2) ; measuring error\n",
    "        \n",
    "        angle = np.rad2deg(np.arctan(o / a))\n",
    "        oErr =  0.5*(np.abs(angle-np.rad2deg(np.arctan((o+oErr) / a))) + \n",
    "                     np.abs(angle-np.rad2deg(np.arctan((o-oErr) / a))))[0]\n",
    "        aErr = 0.5*(np.abs(angle-np.rad2deg(np.arctan(o / (a+aErr)))) + \n",
    "                     np.abs(angle-np.rad2deg(np.arctan(o / (a-aErr)))))\n",
    "        \n",
    "        angleErr = np.sqrt(oErr**2 + aErr**2)\n",
    "        wavelength = np.sin(np.deg2rad(angle)) / spc *1e7\n",
    "        wErr = (np.abs(wavelength-np.sin(np.deg2rad(angle+angleErr)) / spc *1e7) + \n",
    "               np.abs(wavelength-np.sin(np.deg2rad(angle-angleErr)) / spc *1e7))*0.5\n",
    "        temp.append(wavelength)\n",
    "        temp2.append(wErr)\n",
    "        \n",
    "    WL.append(temp)\n",
    "    WLErr.append(temp2)\n",
    "WL = np.array(WL)\n",
    "WLErr = np.array(WLErr)\n",
    "\n",
    "# for k in range(len(gratingLoc)):\n",
    "#     colors = []\n",
    "#     for i in WL[k]:\n",
    "#         colors.append(wavelength_to_rgb(i))\n",
    "#     colors = np.array(colors) / 255\n",
    "#     fig, ax = plt.subplots() \n",
    "#     ax.vlines(x=WL[k], ymin = 0, ymax=1, colors=colors)\n",
    "#     ax.set_xlim(380,750)\n",
    "#     ax.set_ylim(0,1)\n",
    "#     ax.set_xlabel('Wavelength (nm)')\n",
    "#     ax.set_title('Tube B Spectrum (Length {})'.format(int(k+1)))\n",
    "#     ax.set_yticks([]);\n",
    "\n",
    "tubeB = np.array([WL[:,0].mean(), WL[:,1].mean(), WL[:,2].mean()])\n",
    "colors = []\n",
    "for i in tubeB:\n",
    "    colors.append(wavelength_to_rgb(i))\n",
    "colors = np.array(colors) / 255\n",
    "fig, [ax1,ax2] = plt.subplots(2,2, figsize=(14,10)) \n",
    "ax1[0].vlines(x=tubeB, ymin = 0, ymax=1, colors=colors)\n",
    "ax1[0].set_xlim(380,750)\n",
    "ax1[0].set_ylim(0,1)\n",
    "ax1[0].set_xlabel('Wavelength (nm)')\n",
    "ax1[0].set_title('Tube B Spectrum')\n",
    "ax1[0].set_yticks([]);\n",
    "\n",
    "ax1[1].vlines(x=Nitrogen, ymin = 0, ymax=1, colors='gray')\n",
    "ax1[1].vlines(x=tubeB, ymin = 0, ymax=1, colors=colors, alpha=0.7)\n",
    "ax1[1].set_xlim(380,750)\n",
    "ax1[1].set_ylim(0,1)\n",
    "ax1[1].set_xlabel('Wavelength (nm)')\n",
    "ax1[1].set_title('Tube B Nitrogen Overlay');\n",
    "ax1[1].set_yticks([]);\n",
    "\n",
    "ax2[0].vlines(x=Neon, ymin = 0, ymax=1, colors='gray')\n",
    "ax2[0].vlines(x=tubeB, ymin = 0, ymax=1, colors=colors, alpha=0.7)\n",
    "ax2[0].set_xlim(380,750)\n",
    "ax2[0].set_ylim(0,1)\n",
    "ax2[0].set_xlabel('Wavelength (nm)')\n",
    "ax2[0].set_title('Tube B Neon Overlay');\n",
    "ax2[0].set_yticks([]);\n",
    "\n",
    "ax2[1].vlines(x=Argon, ymin = 0, ymax=1, colors='gray')\n",
    "ax2[1].vlines(x=tubeB, ymin = 0, ymax=1, colors=colors, alpha=0.7)\n",
    "ax2[1].set_xlim(380,750)\n",
    "ax2[1].set_ylim(0,1)\n",
    "ax2[1].set_xlabel('Wavelength (nm)')\n",
    "ax2[1].set_title('Tube B Argon Overlay');\n",
    "ax2[1].set_yticks([]);\n",
    "\n",
    "#plt.savefig('Lab 5 Experiment 3 Tube B Overlay.png',facecolor='w',format='png',bbox_inches='tight')"
   ]
  },
  {
   "cell_type": "code",
   "execution_count": 53,
   "id": "765ab968",
   "metadata": {},
   "outputs": [
    {
     "data": {
      "image/png": "[encoded data removed]",
      "text/plain": [
       "<Figure size 432x288 with 1 Axes>"
      ]
     },
     "metadata": {
      "needs_background": "light"
     },
     "output_type": "display_data"
    }
   ],
   "source": [
    "tubeB = np.array([WL[:,0].mean(), WL[:,1].mean(), WL[:,2].mean()])\n",
    "bErr = np.array([WLErr[:,0].mean(), WLErr[:,1].mean(), WLErr[:,2].mean()])\n",
    "\n",
    "bandOne = np.linspace(tubeB[0]-bErr[0],tubeB[0]+bErr[0],50)\n",
    "bandTwo = np.linspace(tubeB[1]-bErr[1],tubeB[1]+bErr[1],50)\n",
    "bandThree = np.linspace(tubeB[2]-bErr[2],tubeB[2]+bErr[2],50)\n",
    "\n",
    "\n",
    "fig,ax = plt.subplots()\n",
    "\n",
    "colorOne = []\n",
    "for i in bandOne:\n",
    "    colorOne.append(wavelength_to_rgb(i))\n",
    "colorOne = np.array(colorOne) / 255\n",
    "\n",
    "colorTwo = []\n",
    "for i in bandTwo:\n",
    "    colorTwo.append(wavelength_to_rgb(i))\n",
    "colorTwo = np.array(colorTwo) / 255\n",
    "\n",
    "colorThree = []\n",
    "for i in bandThree:\n",
    "    colorThree.append(wavelength_to_rgb(i))\n",
    "colorThree = np.array(colorThree) / 255\n",
    "Alpha = 1\n",
    "ax.vlines(x=bandOne, ymin = 0, ymax=1, colors=colorOne, alpha=Alpha)\n",
    "ax.vlines(x=bandTwo, ymin = 0, ymax=1, colors=colorTwo, alpha=Alpha)\n",
    "ax.vlines(x=bandThree, ymin = 0, ymax=1, colors=colorThree, alpha=Alpha)\n",
    "ax.vlines(x=Neon, ymin = 0, ymax=1, colors='gray')\n",
    "\n",
    "ax.set_xlim(380,750)\n",
    "ax.set_ylim(0,1)\n",
    "ax.set_xlabel('Wavelength (nm)')\n",
    "ax.set_title('Tube B Neon Overlay')\n",
    "ax.set_yticks([]);\n",
    "plt.savefig('Tube B Err Neon.png',facecolor='w',format='png',bbox_inches='tight')"
   ]
  },
  {
   "cell_type": "code",
   "execution_count": 48,
   "id": "49a33865",
   "metadata": {},
   "outputs": [
    {
     "data": {
      "text/plain": [
       "(array([527.80490219, 574.54187113, 628.71094162]),\n",
       " array([10.19397319, 10.79437902, 12.29908572]))"
      ]
     },
     "execution_count": 48,
     "metadata": {},
     "output_type": "execute_result"
    }
   ],
   "source": [
    "tubeB,bErr"
   ]
  },
  {
   "cell_type": "markdown",
   "id": "29d04f1a",
   "metadata": {},
   "source": [
    "Tube C"
   ]
  },
  {
   "cell_type": "code",
   "execution_count": 58,
   "id": "ef3d1688",
   "metadata": {},
   "outputs": [
    {
     "data": {
      "image/png": "[encoded data removed]",
      "text/plain": [
       "<Figure size 1008x720 with 4 Axes>"
      ]
     },
     "metadata": {
      "needs_background": "light"
     },
     "output_type": "display_data"
    }
   ],
   "source": [
    "screenLoc = 0\n",
    "spc = 5000\n",
    "gratingLoc = np.array([25.0, 40.0, 55.0])\n",
    "center = np.array([[[6.05,6.15], [6.6,6.65], [6.75,6.9], [7.2,7.35], [7.25,7.3],[7.85,7.9]],\n",
    "                  [[9.7,9.7],[10.6,10.65],[10.8,10.85], [11.45,11.5],[11.75,11.7],[12.6,12.7]],\n",
    "                  [[13.5,13.45],[14.7,14.75],[15.05,15.1],[15.9,16.1],[16.15,16.3],[17.3,17.7]]]) \n",
    "                    #first two are centers, next 2 is 1 band, last 2 is 1 band\n",
    "\n",
    "WL = []\n",
    "WLErr = []\n",
    "for i in range(len(center)):\n",
    "    temp = []\n",
    "    temp2 = []\n",
    "    for j in range(len(center[i])):\n",
    "        o = center[i][j].mean() #opposite\n",
    "        a = (gratingLoc[i] - screenLoc) #adjacent\n",
    "        \n",
    "        oErr = center[i][j].std() / np.sqrt(center[i][j].shape) #standard error\n",
    "        aErr = 0.707 #sqrt(.5^2 + .5^2) ; measuring error\n",
    "        \n",
    "        angle = np.rad2deg(np.arctan(o / a))\n",
    "        oErr =  0.5*(np.abs(angle-np.rad2deg(np.arctan((o+oErr) / a))) + \n",
    "                     np.abs(angle-np.rad2deg(np.arctan((o-oErr) / a))))[0]\n",
    "        aErr = 0.5*(np.abs(angle-np.rad2deg(np.arctan(o / (a+aErr)))) + \n",
    "                     np.abs(angle-np.rad2deg(np.arctan(o / (a-aErr)))))\n",
    "        \n",
    "        angleErr = np.sqrt(oErr**2 + aErr**2)\n",
    "        wavelength = np.sin(np.deg2rad(angle)) / spc *1e7\n",
    "        wErr = (np.abs(wavelength-np.sin(np.deg2rad(angle+angleErr)) / spc *1e7) + \n",
    "               np.abs(wavelength-np.sin(np.deg2rad(angle-angleErr)) / spc *1e7))*0.5\n",
    "        temp.append(wavelength)\n",
    "        temp2.append(wErr)\n",
    "        \n",
    "    WL.append(temp)\n",
    "    WLErr.append(temp2)\n",
    "WL = np.array(WL)\n",
    "WLErr = np.array(WLErr)\n",
    "\n",
    "tubeC = np.array([WL[:,0].mean(), WL[:,1].mean(), WL[:,2].mean(), \n",
    "                  WL[:,3].mean(), WL[:,4].mean(), WL[:,5].mean()])\n",
    "cErr = np.array([WLErr[:,0].mean(), WLErr[:,1].mean(), WLErr[:,2].mean(),\n",
    "                 WLErr[:,3].mean(), WLErr[:,4].mean(), WLErr[:,5].mean()])\n",
    "\n",
    "N = 200\n",
    "bandOne = np.linspace(tubeC[2],tubeC[3], N)\n",
    "bandTwo = np.linspace(tubeC[4],tubeC[5], N)\n",
    "\n",
    "colors = []\n",
    "for i in tubeC[:2]:\n",
    "    colors.append(wavelength_to_rgb(i))\n",
    "colors = np.array(colors) / 255\n",
    "\n",
    "colorBandOne = []\n",
    "for i in bandOne:\n",
    "    colorBandOne.append(wavelength_to_rgb(i))\n",
    "colorBandOne = np.array(colorBandOne) / 255\n",
    "    \n",
    "colorBandTwo = []\n",
    "for i in bandTwo:\n",
    "    colorBandTwo.append(wavelength_to_rgb(i))\n",
    "colorBandTwo = np.array(colorBandTwo) / 255\n",
    "\n",
    "\n",
    "fig, [ax1,ax2] = plt.subplots(2,2, figsize=(14,10)) \n",
    "ax1[0].vlines(x=tubeC[:2], ymin = 0, ymax=1, colors=colors)\n",
    "ax1[0].vlines(x=bandOne, ymin = 0, ymax=1, colors=colorBandOne)\n",
    "ax1[0].vlines(x=bandTwo, ymin = 0, ymax=1, colors=colorBandTwo)\n",
    "ax1[0].set_xlim(380,750)\n",
    "ax1[0].set_ylim(0,1)\n",
    "ax1[0].set_xlabel('Wavelength (nm)')\n",
    "ax1[0].set_title('Tube C Spectrum')\n",
    "ax1[0].set_yticks([]);\n",
    "\n",
    "ax1[1].vlines(x=Nitrogen, ymin = 0, ymax=1, colors='gray')\n",
    "ax1[1].vlines(x=tubeC[:2], ymin = 0, ymax=1, colors=colors, alpha=0.7)\n",
    "ax1[1].vlines(x=bandOne, ymin = 0, ymax=1, colors=colorBandOne, alpha=0.7)\n",
    "ax1[1].vlines(x=bandTwo, ymin = 0, ymax=1, colors=colorBandTwo, alpha=0.7)\n",
    "ax1[1].set_xlim(380,750)\n",
    "ax1[1].set_ylim(0,1)\n",
    "ax1[1].set_xlabel('Wavelength (nm)')\n",
    "ax1[1].set_title('Tube C Nitrogen Overlay');\n",
    "ax1[1].set_yticks([]);\n",
    "\n",
    "\n",
    "ax2[0].vlines(x=tubeC[:2], ymin = 0, ymax=1, colors=colors, alpha=0.7)\n",
    "ax2[0].vlines(x=bandOne, ymin = 0, ymax=1, colors=colorBandOne, alpha=0.7)\n",
    "ax2[0].vlines(x=bandTwo, ymin = 0, ymax=1, colors=colorBandTwo, alpha=0.7)\n",
    "ax2[0].vlines(x=Neon, ymin = 0, ymax=1, colors='gray')\n",
    "ax2[0].set_xlim(380,750)\n",
    "ax2[0].set_ylim(0,1)\n",
    "ax2[0].set_xlabel('Wavelength (nm)')\n",
    "ax2[0].set_title('Tube C Neon Overlay');\n",
    "ax2[0].set_yticks([]);\n",
    "\n",
    "ax2[1].vlines(x=Argon, ymin = 0, ymax=1, colors='gray')\n",
    "ax2[1].vlines(x=tubeC[:2], ymin = 0, ymax=1, colors=colors, alpha=0.7)\n",
    "ax2[1].vlines(x=bandOne, ymin = 0, ymax=1, colors=colorBandOne, alpha=0.7)\n",
    "ax2[1].vlines(x=bandTwo, ymin = 0, ymax=1, colors=colorBandTwo, alpha=0.7)\n",
    "ax2[1].set_xlim(380,750)\n",
    "ax2[1].set_ylim(0,1)\n",
    "ax2[1].set_xlabel('Wavelength (nm)')\n",
    "ax2[1].set_title('Tube C Argon Overlay');\n",
    "ax2[1].set_yticks([]);\n",
    "\n",
    "#plt.savefig('Lab 5 Experiment 3 Tube C Overlay.png',facecolor='w',format='png',bbox_inches='tight')"
   ]
  },
  {
   "cell_type": "code",
   "execution_count": 62,
   "id": "91f9046f",
   "metadata": {},
   "outputs": [
    {
     "data": {
      "text/plain": [
       "array([473.78495334, 514.33325338, 525.95444888, 556.32802358,\n",
       "       562.42976356, 603.45389809])"
      ]
     },
     "execution_count": 62,
     "metadata": {},
     "output_type": "execute_result"
    }
   ],
   "source": [
    "cErr\n",
    "tubeC"
   ]
  },
  {
   "cell_type": "code",
   "execution_count": 65,
   "id": "692af1e2",
   "metadata": {},
   "outputs": [
    {
     "data": {
      "image/png": "[encoded data removed]",
      "text/plain": [
       "<Figure size 432x288 with 1 Axes>"
      ]
     },
     "metadata": {
      "needs_background": "light"
     },
     "output_type": "display_data"
    }
   ],
   "source": [
    "bandOne = np.linspace(tubeC[0]-cErr[0],tubeC[0]+cErr[0],100)\n",
    "bandTwo = np.linspace(tubeC[1]-cErr[1],tubeC[1]+cErr[1],100)\n",
    "bandThree = np.linspace(tubeC[2]-cErr[2],tubeC[3]+cErr[3],100)\n",
    "bandFour = np.linspace(tubeC[4]-cErr[4],tubeC[5]+cErr[5],100)\n",
    "\n",
    "fig,ax = plt.subplots()\n",
    "\n",
    "colorOne = []\n",
    "for i in bandOne:\n",
    "    colorOne.append(wavelength_to_rgb(i))\n",
    "colorOne = np.array(colorOne) / 255\n",
    "\n",
    "colorTwo = []\n",
    "for i in bandTwo:\n",
    "    colorTwo.append(wavelength_to_rgb(i))\n",
    "colorTwo = np.array(colorTwo) / 255\n",
    "\n",
    "colorThree = []\n",
    "for i in bandThree:\n",
    "    colorThree.append(wavelength_to_rgb(i))\n",
    "colorThree = np.array(colorThree) / 255\n",
    "\n",
    "colorFour = []\n",
    "for i in bandFour:\n",
    "    colorFour.append(wavelength_to_rgb(i))\n",
    "colorFour = np.array(colorFour) / 255\n",
    "\n",
    "\n",
    "\n",
    "Alpha = 1\n",
    "ax.vlines(x=bandOne, ymin = 0, ymax=1, colors=colorOne, alpha=Alpha)\n",
    "ax.vlines(x=bandTwo, ymin = 0, ymax=1, colors=colorTwo, alpha=Alpha)\n",
    "ax.vlines(x=bandThree, ymin = 0, ymax=1, colors=colorThree, alpha=Alpha)\n",
    "ax.vlines(x=bandFour, ymin = 0, ymax=1, colors=colorFour, alpha=Alpha)\n",
    "\n",
    "\n",
    "ax.vlines(x=Argon, ymin = 0, ymax=1, colors='gray')\n",
    "\n",
    "ax.set_xlim(380,750)\n",
    "ax.set_ylim(0,1)\n",
    "ax.set_xlabel('Wavelength (nm)')\n",
    "ax.set_title('Tube B Argon Overlay')\n",
    "ax.set_yticks([]);\n",
    "plt.savefig('Tube C Err Argon.png',facecolor='w',format='png',bbox_inches='tight')"
   ]
  },
  {
   "cell_type": "markdown",
   "id": "4298a8b8",
   "metadata": {},
   "source": [
    "# Experiment 4"
   ]
  },
  {
   "cell_type": "code",
   "execution_count": 41,
   "id": "52371052",
   "metadata": {},
   "outputs": [
    {
     "data": {
      "image/png": "[encoded data removed]",
      "text/plain": [
       "<Figure size 432x288 with 1 Axes>"
      ]
     },
     "metadata": {
      "needs_background": "light"
     },
     "output_type": "display_data"
    }
   ],
   "source": [
    "screenLoc = 13\n",
    "spc = 5000\n",
    "\n",
    "gratingLoc = np.array([38,53,68])\n",
    "center = np.array([[[4.95,4.9], [9.65,9.5]],\n",
    "                  [[8.2,7.9],[15.0,12.5]],\n",
    "                  [[11.1,11.0],[21.5,21.0]]]) #(cm)\n",
    "\n",
    "WL = []\n",
    "for i in range(len(center)):\n",
    "    temp = []\n",
    "    for j in range(len(center[i])):\n",
    "        angle = np.rad2deg(np.arctan(center[i][j].mean() / (gratingLoc[i] - screenLoc)))\n",
    "        wavelength = np.sin(np.deg2rad(angle)) / spc *1e7\n",
    "        temp.append(wavelength)\n",
    "    WL.append(temp)\n",
    "WL = np.array(WL)\n",
    "\n",
    "\n",
    "lightBulb = np.array([WL[:,0].mean(), WL[:,1].mean()])\n",
    "lightBulb\n",
    "band = np.linspace(lightBulb[0],lightBulb[1],500)\n",
    "colors = []\n",
    "for i in band:\n",
    "    colors.append(wavelength_to_rgb(i))\n",
    "colors = np.array(colors) / 255\n",
    "fig, ax = plt.subplots() \n",
    "ax.vlines(x=band, ymin = 0, ymax=1, colors=colors)\n",
    "ax.set_xlim(380,750)\n",
    "ax.set_ylim(0,1)\n",
    "ax.set_xlabel('Wavelength (nm)')\n",
    "ax.set_title('Visible Spectrum'.format(int(k+1)))\n",
    "ax.set_yticks([]);"
   ]
  },
  {
   "cell_type": "code",
   "execution_count": null,
   "id": "e74ccb32",
   "metadata": {},
   "outputs": [],
   "source": [
    "screenLoc = 13.5\n",
    "spc = 5000\n",
    "\n",
    "gratingLoc = np.array([38.5,53.5,68.5])\n",
    "center = np.array([[[5.4,5.5], [5.6,5.65], [], [], \n",
    "                    [], [], [], []],\n",
    "                  [ [], [], [], [], \n",
    "                   [], [], [], []],\n",
    "                  [ [], [], [], [], \n",
    "                   [], [], [], []]]) #(cm)\n",
    "\n",
    "WL = []\n",
    "for i in range(len(center)):\n",
    "    temp = []\n",
    "    for j in range(len(center[i])):\n",
    "        angle = np.rad2deg(np.arctan(center[i][j].mean() / (gratingLoc[i] - screenLoc)))\n",
    "        wavelength = np.sin(np.deg2rad(angle)) / spc *1e7\n",
    "        temp.append(wavelength)\n",
    "    WL.append(temp)\n",
    "WL = np.array(WL)\n",
    "\n",
    "\n",
    "lightBulb = np.array([WL[:,0].mean(), WL[:,1].mean()])\n",
    "lightBulb\n",
    "band = np.linspace(lightBulb[0],lightBulb[1],500)\n",
    "colors = []\n",
    "for i in band:\n",
    "    colors.append(wavelength_to_rgb(i))\n",
    "colors = np.array(colors) / 255\n",
    "fig, ax = plt.subplots() \n",
    "ax.vlines(x=band, ymin = 0, ymax=1, colors=colors)\n",
    "ax.set_xlim(380,750)\n",
    "ax.set_ylim(0,1)\n",
    "ax.set_xlabel('Wavelength (nm)')\n",
    "ax.set_title('Lightbulb Spectrum'.format(int(k+1)))\n",
    "ax.set_yticks([]);"
   ]
  }
 ],
 "metadata": {
  "kernelspec": {
   "display_name": "Python 3 (ipykernel)",
   "language": "python",
   "name": "python3"
  },
  "language_info": {
   "codemirror_mode": {
    "name": "ipython",
    "version": 3
   },
   "file_extension": ".py",
   "mimetype": "text/x-python",
   "name": "python",
   "nbconvert_exporter": "python",
   "pygments_lexer": "ipython3",
   "version": "3.9.1"
  }
 },
 "nbformat": 4,
 "nbformat_minor": 5
}
