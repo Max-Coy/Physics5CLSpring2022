{
 "cells": [
  {
   "cell_type": "code",
   "execution_count": 2,
   "id": "26335f74",
   "metadata": {},
   "outputs": [],
   "source": [
    "import numpy as np\n",
    "import matplotlib.pyplot as plt\n",
    "import scipy.optimize as fitter"
   ]
  },
  {
   "cell_type": "code",
   "execution_count": 3,
   "id": "e1149706",
   "metadata": {},
   "outputs": [],
   "source": [
    "#Code nabbed from: http://www.noah.org/wiki/Wavelength_to_RGB_in_Python\n",
    "def wavelength_to_rgb(wavelength, gamma=0.8):\n",
    "\n",
    "    '''This converts a given wavelength of light to an \n",
    "    approximate RGB color value. The wavelength must be given\n",
    "    in nanometers in the range from 380 nm through 750 nm\n",
    "    (789 THz through 400 THz).\n",
    "\n",
    "    Based on code by Dan Bruton\n",
    "    http://www.physics.sfasu.edu/astro/color/spectra.html\n",
    "    '''\n",
    "\n",
    "    wavelength = float(wavelength)\n",
    "    if wavelength >= 380 and wavelength <= 440:\n",
    "        attenuation = 0.3 + 0.7 * (wavelength - 380) / (440 - 380)\n",
    "        R = ((-(wavelength - 440) / (440 - 380)) * attenuation) ** gamma\n",
    "        G = 0.0\n",
    "        B = (1.0 * attenuation) ** gamma\n",
    "    elif wavelength >= 440 and wavelength <= 490:\n",
    "        R = 0.0\n",
    "        G = ((wavelength - 440) / (490 - 440)) ** gamma\n",
    "        B = 1.0\n",
    "    elif wavelength >= 490 and wavelength <= 510:\n",
    "        R = 0.0\n",
    "        G = 1.0\n",
    "        B = (-(wavelength - 510) / (510 - 490)) ** gamma\n",
    "    elif wavelength >= 510 and wavelength <= 580:\n",
    "        R = ((wavelength - 510) / (580 - 510)) ** gamma\n",
    "        G = 1.0\n",
    "        B = 0.0\n",
    "    elif wavelength >= 580 and wavelength <= 645:\n",
    "        R = 1.0\n",
    "        G = (-(wavelength - 645) / (645 - 580)) ** gamma\n",
    "        B = 0.0\n",
    "    elif wavelength >= 645 and wavelength <= 750:\n",
    "        attenuation = 0.3 + 0.7 * (750 - wavelength) / (750 - 645)\n",
    "        R = (1.0 * attenuation) ** gamma\n",
    "        G = 0.0\n",
    "        B = 0.0\n",
    "    else:\n",
    "        R = 0.0\n",
    "        G = 0.0\n",
    "        B = 0.0\n",
    "    R *= 255\n",
    "    G *= 255\n",
    "    B *= 255\n",
    "    return (int(R), int(G), int(B))"
   ]
  },
  {
   "cell_type": "markdown",
   "id": "4298a8b8",
   "metadata": {},
   "source": [
    "# Experiment 4"
   ]
  },
  {
   "cell_type": "code",
   "execution_count": 11,
   "id": "52371052",
   "metadata": {},
   "outputs": [
    {
     "data": {
      "image/png": "[encoded data removed]",
      "text/plain": [
       "<Figure size 432x288 with 1 Axes>"
      ]
     },
     "metadata": {
      "needs_background": "light"
     },
     "output_type": "display_data"
    }
   ],
   "source": [
    "screenLoc = 13\n",
    "spc = 5000\n",
    "\n",
    "gratingLoc = np.array([38,53,68])\n",
    "center = np.array([[[4.95,4.9], [9.65,9.5]],\n",
    "                  [[8.2,7.9],[15.0,15.5]],\n",
    "                  [[11.1,11.0],[21.5,21.0]]]) #(cm)\n",
    "\n",
    "WL = []\n",
    "for i in range(len(center)):\n",
    "    temp = []\n",
    "    for j in range(len(center[i])):\n",
    "        angle = np.rad2deg(np.arctan(center[i][j].mean() / (gratingLoc[i] - screenLoc)))\n",
    "        wavelength = np.sin(np.deg2rad(angle)) / spc *1e7\n",
    "        temp.append(wavelength)\n",
    "    WL.append(temp)\n",
    "WL = np.array(WL)\n",
    "\n",
    "\n",
    "lightBulb = np.array([WL[:,0].mean(), WL[:,1].mean()])\n",
    "lightBulb\n",
    "band = np.linspace(lightBulb[0],lightBulb[1],500)\n",
    "colors = []\n",
    "for i in band:\n",
    "    colors.append(wavelength_to_rgb(i))\n",
    "colors = np.array(colors) / 255\n",
    "fig, ax = plt.subplots() \n",
    "ax.vlines(x=band, ymin = 0, ymax=1, colors=colors)\n",
    "ax.set_xlim(380,750)\n",
    "ax.set_ylim(0,1)\n",
    "ax.set_xlabel('Wavelength (nm)')\n",
    "#ax.set_title('Visible Spectrum'.format(int(k+1)))\n",
    "ax.set_yticks([]);"
   ]
  },
  {
   "cell_type": "code",
   "execution_count": 29,
   "id": "39346ba6",
   "metadata": {},
   "outputs": [],
   "source": [
    "uncs = []\n",
    "for i in range(len(center)):\n",
    "    temp = []\n",
    "    for j in range(len(center[i])):\n",
    "        unc = abs((center[i][j][0]-center[i][j][1])/2)+0.05\n",
    "        temp.append(unc)\n",
    "    uncs.append(temp)\n"
   ]
  },
  {
   "cell_type": "code",
   "execution_count": 53,
   "id": "e74ccb32",
   "metadata": {},
   "outputs": [
    {
     "name": "stdout",
     "output_type": "stream",
     "text": [
      "[419.7401 429.9233 475.4031 492.7399 519.5539 544.9988 588.5165 605.1716]\n"
     ]
    },
    {
     "data": {
      "image/png": "[encoded data removed]",
      "text/plain": [
       "<Figure size 432x288 with 1 Axes>"
      ]
     },
     "metadata": {
      "needs_background": "light"
     },
     "output_type": "display_data"
    }
   ],
   "source": [
    "screenLoc = 13.5\n",
    "spc = 5000\n",
    "\n",
    "WL = np.array([419.7401,429.9233,475.4031,492.7399,519.5539,544.9988,588.5165,605.1716])\n",
    "print(WL)\n",
    "\n",
    "band1 = np.linspace(WL[0],WL[1],500)\n",
    "band2 = np.linspace(WL[2],WL[3],500)\n",
    "band3 = np.linspace(WL[4],WL[5],500)\n",
    "band4 = np.linspace(WL[6],WL[7],500)\n",
    "\n",
    "colors = []\n",
    "for i in band1:\n",
    "    colors.append(wavelength_to_rgb(i))\n",
    "colors = np.array(colors) / 255\n",
    "\n",
    "colorBandOne = []\n",
    "for i in band2:\n",
    "    colorBandOne.append(wavelength_to_rgb(i))\n",
    "colorBandOne = np.array(colorBandOne) / 255\n",
    "    \n",
    "colorBandTwo = []\n",
    "for i in band3:\n",
    "    colorBandTwo.append(wavelength_to_rgb(i))\n",
    "colorBandTwo = np.array(colorBandTwo) / 255\n",
    "\n",
    "colorBandFour = []\n",
    "for i in band4:\n",
    "    colorBandFour.append(wavelength_to_rgb(i))\n",
    "colorBandFour = np.array(colorBandFour) / 255\n",
    "\n",
    "\n",
    "\n",
    "fig, ax = plt.subplots() \n",
    "ax.vlines(x=band1, ymin = 0, ymax=1, colors=colors)\n",
    "ax.vlines(x=band2, ymin = 0, ymax=1, colors=colorBandOne)\n",
    "ax.vlines(x=band3, ymin = 0, ymax=1, colors=colorBandTwo)\n",
    "ax.vlines(x=band4, ymin = 0, ymax=1, colors=colorBandFour)\n",
    "\n",
    "ax.set_xlim(380,750)\n",
    "ax.set_ylim(0,1)\n",
    "ax.set_xlabel('Wavelength (nm)')\n",
    "ax.set_title('CFL Spectral Bands')\n",
    "ax.set_yticks([]);"
   ]
  },
  {
   "cell_type": "code",
   "execution_count": 7,
   "id": "aead85b9",
   "metadata": {},
   "outputs": [
    {
     "data": {
      "image/png": "[encoded data removed]",
      "text/plain": [
       "<Figure size 432x288 with 1 Axes>"
      ]
     },
     "metadata": {
      "needs_background": "light"
     },
     "output_type": "display_data"
    }
   ],
   "source": [
    "\n",
    "Merc = 0.1*np.array([2052.828,2260.294,2262.223,2536.517,2847.675,2967.28,3021.498,3125.668,3131.548,3131.839,3650.153,3654.836,3983.931,4046.563,4339.223,4347.494,4358.328,5425.253,5460.735,5677.105,5790.663,6149.475,7944.555,10139.76])\n",
    "colors = []\n",
    "for i in Merc:\n",
    "    colors.append(wavelength_to_rgb(i))\n",
    "colors = np.array(colors) / 255\n",
    "fig, ax = plt.subplots() \n",
    "ax.vlines(x=Merc, ymin = 0, ymax=1, colors=colors)\n",
    "ax.set_xlim(100,900)\n",
    "ax.set_ylim(0,1)\n",
    "ax.set_xlabel('Wavelength (nm)')\n",
    "ax.set_title('Selected Mercury Spectrum')\n",
    "ax.set_yticks([]);\n"
   ]
  }
 ],
 "metadata": {
  "kernelspec": {
   "display_name": "Python 3",
   "language": "python",
   "name": "python3"
  },
  "language_info": {
   "codemirror_mode": {
    "name": "ipython",
    "version": 3
   },
   "file_extension": ".py",
   "mimetype": "text/x-python",
   "name": "python",
   "nbconvert_exporter": "python",
   "pygments_lexer": "ipython3",
   "version": "3.8.8"
  }
 },
 "nbformat": 4,
 "nbformat_minor": 5
}
